{
  "nbformat": 4,
  "nbformat_minor": 0,
  "metadata": {
    "colab": {
      "name": "SunSpots.ipynb",
      "provenance": [],
      "collapsed_sections": [],
      "authorship_tag": "ABX9TyNMTvj7QXHH+31JAcXgVA7L",
      "include_colab_link": true
    },
    "kernelspec": {
      "name": "python3",
      "display_name": "Python 3"
    }
  },
  "cells": [
    {
      "cell_type": "markdown",
      "metadata": {
        "id": "view-in-github",
        "colab_type": "text"
      },
      "source": [
        "<a href=\"https://colab.research.google.com/github/jaideep6214/Time-Series-Analysis-Sunspot-Data-/blob/master/SunSpots.ipynb\" target=\"_parent\"><img src=\"https://colab.research.google.com/assets/colab-badge.svg\" alt=\"Open In Colab\"/></a>"
      ]
    },
    {
      "cell_type": "code",
      "metadata": {
        "id": "u-l_Jvg8eLw4",
        "colab_type": "code",
        "colab": {
          "base_uri": "https://localhost:8080/",
          "height": 124
        },
        "outputId": "3d8f1711-e20c-4f48-9d63-47a37c60b830"
      },
      "source": [
        "from google.colab import drive\n",
        "drive.mount('/content/gdrive')"
      ],
      "execution_count": null,
      "outputs": [
        {
          "output_type": "stream",
          "text": [
            "Go to this URL in a browser: https://accounts.google.com/o/oauth2/auth?client_id=947318989803-6bn6qk8qdgf4n4g3pfee6491hc0brc4i.apps.googleusercontent.com&redirect_uri=urn%3aietf%3awg%3aoauth%3a2.0%3aoob&response_type=code&scope=email%20https%3a%2f%2fwww.googleapis.com%2fauth%2fdocs.test%20https%3a%2f%2fwww.googleapis.com%2fauth%2fdrive%20https%3a%2f%2fwww.googleapis.com%2fauth%2fdrive.photos.readonly%20https%3a%2f%2fwww.googleapis.com%2fauth%2fpeopleapi.readonly\n",
            "\n",
            "Enter your authorization code:\n",
            "··········\n",
            "Mounted at /content/gdrive\n"
          ],
          "name": "stdout"
        }
      ]
    },
    {
      "cell_type": "code",
      "metadata": {
        "id": "qrOubhqFhviT",
        "colab_type": "code",
        "colab": {}
      },
      "source": [
        "import pandas as pd\n",
        "import csv\n",
        "import numpy as np\n",
        "import matplotlib.pyplot as plt\n",
        "import tensorflow as tf"
      ],
      "execution_count": null,
      "outputs": []
    },
    {
      "cell_type": "code",
      "metadata": {
        "id": "POliCkjnhNpV",
        "colab_type": "code",
        "colab": {}
      },
      "source": [
        "df = pd.read_csv('/content/gdrive/My Drive/DeepLearning/Time Series/Sun Spot/Sunspots.csv',header=0)"
      ],
      "execution_count": null,
      "outputs": []
    },
    {
      "cell_type": "code",
      "metadata": {
        "id": "blnQAZWAh7Tg",
        "colab_type": "code",
        "colab": {
          "base_uri": "https://localhost:8080/",
          "height": 202
        },
        "outputId": "e950296e-7509-4459-9573-ba080b23c968"
      },
      "source": [
        "df.head()"
      ],
      "execution_count": null,
      "outputs": [
        {
          "output_type": "execute_result",
          "data": {
            "text/html": [
              "<div>\n",
              "<style scoped>\n",
              "    .dataframe tbody tr th:only-of-type {\n",
              "        vertical-align: middle;\n",
              "    }\n",
              "\n",
              "    .dataframe tbody tr th {\n",
              "        vertical-align: top;\n",
              "    }\n",
              "\n",
              "    .dataframe thead th {\n",
              "        text-align: right;\n",
              "    }\n",
              "</style>\n",
              "<table border=\"1\" class=\"dataframe\">\n",
              "  <thead>\n",
              "    <tr style=\"text-align: right;\">\n",
              "      <th></th>\n",
              "      <th>Unnamed: 0</th>\n",
              "      <th>Date</th>\n",
              "      <th>Monthly Mean Total Sunspot Number</th>\n",
              "    </tr>\n",
              "  </thead>\n",
              "  <tbody>\n",
              "    <tr>\n",
              "      <th>0</th>\n",
              "      <td>0</td>\n",
              "      <td>1749-01-31</td>\n",
              "      <td>96.7</td>\n",
              "    </tr>\n",
              "    <tr>\n",
              "      <th>1</th>\n",
              "      <td>1</td>\n",
              "      <td>1749-02-28</td>\n",
              "      <td>104.3</td>\n",
              "    </tr>\n",
              "    <tr>\n",
              "      <th>2</th>\n",
              "      <td>2</td>\n",
              "      <td>1749-03-31</td>\n",
              "      <td>116.7</td>\n",
              "    </tr>\n",
              "    <tr>\n",
              "      <th>3</th>\n",
              "      <td>3</td>\n",
              "      <td>1749-04-30</td>\n",
              "      <td>92.8</td>\n",
              "    </tr>\n",
              "    <tr>\n",
              "      <th>4</th>\n",
              "      <td>4</td>\n",
              "      <td>1749-05-31</td>\n",
              "      <td>141.7</td>\n",
              "    </tr>\n",
              "  </tbody>\n",
              "</table>\n",
              "</div>"
            ],
            "text/plain": [
              "   Unnamed: 0        Date  Monthly Mean Total Sunspot Number\n",
              "0           0  1749-01-31                               96.7\n",
              "1           1  1749-02-28                              104.3\n",
              "2           2  1749-03-31                              116.7\n",
              "3           3  1749-04-30                               92.8\n",
              "4           4  1749-05-31                              141.7"
            ]
          },
          "metadata": {
            "tags": []
          },
          "execution_count": 5
        }
      ]
    },
    {
      "cell_type": "code",
      "metadata": {
        "id": "R_UlbZKIh85p",
        "colab_type": "code",
        "colab": {}
      },
      "source": [
        "time_step = []\n",
        "sunspots = []\n",
        "\n",
        "with open('/content/gdrive/My Drive/DeepLearning/Time Series/Sun Spot/Sunspots.csv') as csvfile:\n",
        "  reader = csv.reader(csvfile, delimiter=',')\n",
        "  next(reader)\n",
        "  for row in reader:\n",
        "    sunspots.append(float(row[2]))\n",
        "    time_step.append(int(row[0]))\n",
        "\n",
        "series = np.array(sunspots)                            #Creating Time Steps and Mean as Time Series\n",
        "time = np.array(time_step)\n",
        "\n",
        "series = np.array(sunspots)\n",
        "time = np.array(time_step)"
      ],
      "execution_count": null,
      "outputs": []
    },
    {
      "cell_type": "code",
      "metadata": {
        "id": "FkF7PG-jiHjR",
        "colab_type": "code",
        "colab": {}
      },
      "source": [
        "def plot_series(time, series, format=\"-\", start=0, end=None):\n",
        "    plt.plot(time[start:end], series[start:end], format)\n",
        "    plt.xlabel(\"Time\")\n",
        "    plt.ylabel(\"Value\")\n",
        "    plt.grid(True)"
      ],
      "execution_count": null,
      "outputs": []
    },
    {
      "cell_type": "code",
      "metadata": {
        "id": "buf4ch2qiJgL",
        "colab_type": "code",
        "colab": {
          "base_uri": "https://localhost:8080/",
          "height": 388
        },
        "outputId": "c8918b3f-ef10-42ef-f8b8-a1bdb068142e"
      },
      "source": [
        "plt.figure(figsize=(10, 6))\n",
        "plot_series(time, series)"
      ],
      "execution_count": null,
      "outputs": [
        {
          "output_type": "display_data",
          "data": {
            "image/png": "[encoded data removed]",
            "text/plain": [
              "<Figure size 720x432 with 1 Axes>"
            ]
          },
          "metadata": {
            "tags": [],
            "needs_background": "light"
          }
        }
      ]
    },
    {
      "cell_type": "code",
      "metadata": {
        "id": "fIJUG8h0iMpQ",
        "colab_type": "code",
        "colab": {
          "base_uri": "https://localhost:8080/",
          "height": 35
        },
        "outputId": "04a36c4c-a9ba-41a8-e384-4ace5d0127e0"
      },
      "source": [
        "len(series) #We have 3252 series split it into 3000 test and 252 validation"
      ],
      "execution_count": null,
      "outputs": [
        {
          "output_type": "execute_result",
          "data": {
            "text/plain": [
              "3252"
            ]
          },
          "metadata": {
            "tags": []
          },
          "execution_count": 10
        }
      ]
    },
    {
      "cell_type": "code",
      "metadata": {
        "id": "ZING4XekiPTJ",
        "colab_type": "code",
        "colab": {}
      },
      "source": [
        "split_time = 3000\n",
        "x_train = series[:split_time]     #Splitting the series into x_train and x_validate\n",
        "x_valid = series[split_time:]\n",
        "\n",
        "time_train = time[:split_time]    #Splitting our time steps that is 1,2,3,4 \n",
        "time_valid = time[split_time:]"
      ],
      "execution_count": null,
      "outputs": []
    },
    {
      "cell_type": "code",
      "metadata": {
        "id": "bdZW82qDiSZ5",
        "colab_type": "code",
        "colab": {}
      },
      "source": [
        "window_size = 30\n",
        "batch_size = 32\n",
        "shuffle_buffer_size = 1000"
      ],
      "execution_count": null,
      "outputs": []
    },
    {
      "cell_type": "code",
      "metadata": {
        "id": "NN7NZGaJiVCx",
        "colab_type": "code",
        "colab": {}
      },
      "source": [
        "#Simple Neural Network\n",
        "def windowed_dataset(series, window_size, batch_size, shuffle_buffer):  #Creating dataset for Simple Neural Network\n",
        "  dataset = tf.data.Dataset.from_tensor_slices(series)\n",
        "  dataset = dataset.window(window_size + 1, shift=1, drop_remainder=True)\n",
        "  dataset = dataset.flat_map(lambda window: window.batch(window_size + 1))\n",
        "  dataset = dataset.shuffle(shuffle_buffer).map(lambda window: (window[:-1], window[-1]))\n",
        "  dataset = dataset.batch(batch_size).prefetch(1)\n",
        "  return dataset"
      ],
      "execution_count": null,
      "outputs": []
    },
    {
      "cell_type": "code",
      "metadata": {
        "id": "OwsumkYOiVKp",
        "colab_type": "code",
        "colab": {}
      },
      "source": [
        "#Simple Neural Network\n",
        "dataset1 = windowed_dataset(x_train, window_size, batch_size, shuffle_buffer_size)"
      ],
      "execution_count": null,
      "outputs": []
    },
    {
      "cell_type": "code",
      "metadata": {
        "id": "uBP_TLOHiYA5",
        "colab_type": "code",
        "colab": {}
      },
      "source": [
        "#Simple Neural Network\n",
        "model1 = tf.keras.models.Sequential([\n",
        "    tf.keras.layers.Dense(20, input_shape=[window_size], activation=\"relu\"), \n",
        "    tf.keras.layers.Dense(10, activation=\"relu\"),\n",
        "    tf.keras.layers.Dense(1)\n",
        "])"
      ],
      "execution_count": null,
      "outputs": []
    },
    {
      "cell_type": "code",
      "metadata": {
        "id": "sa8hfH2_iqaR",
        "colab_type": "code",
        "colab": {}
      },
      "source": [
        "#Simple Neural Network\n",
        "model1.compile(loss=\"mse\", optimizer=tf.keras.optimizers.SGD(lr=1e-7, momentum=0.9))\n",
        "history1 =model1.fit(dataset1,epochs=100,verbose=0)"
      ],
      "execution_count": null,
      "outputs": []
    },
    {
      "cell_type": "code",
      "metadata": {
        "id": "s_Uv9qTJi_bS",
        "colab_type": "code",
        "colab": {
          "base_uri": "https://localhost:8080/",
          "height": 35
        },
        "outputId": "4a4f4f27-bd5f-4053-d33e-764d6d1c76b4"
      },
      "source": [
        "#Simple Neural Network\n",
        "forecast=[]\n",
        "#series[time:time + window_size][np.newaxis] is the 30 elements which we send to our model and it will predict the 31st output\n",
        "\n",
        "for time in range(len(series) - window_size):\n",
        "  forecast.append(model1.predict(series[time:time + window_size][np.newaxis]))  #numpy new axis reshapes it to input used by model\n",
        "\n",
        "print(len(forecast))  #Predicted 30 + 3222 values\n",
        "\n",
        "forecast = forecast[split_time-window_size:] #took forecast after the split, i.e discarded the test prediction and kept validation prediction\n",
        "results = np.array(forecast)[:, 0, 0] # taking out from boxes\n"
      ],
      "execution_count": null,
      "outputs": [
        {
          "output_type": "stream",
          "text": [
            "3222\n"
          ],
          "name": "stdout"
        }
      ]
    },
    {
      "cell_type": "code",
      "metadata": {
        "id": "ir406cqrmY5X",
        "colab_type": "code",
        "colab": {}
      },
      "source": [
        "'''\n",
        "Explaination\n",
        "window size=2\n",
        "15-2= 13 times loops \n",
        "for 0=>0:2 it will give 2 with the help of 0 and 1\n",
        "for 1=>1:3 it will give 3 with the help of 1 and 2\n",
        "for 2=>2:4 it will give 4 with the help of 2 and 3\n",
        "....\n",
        "for 12=>12:14 it will give 14 with the help of 12 and 13\n",
        "i predicted 13 values\n",
        "10-2 =8 discarded\n",
        "5 is my prediction = validation\n",
        "0 1 2 3 4 5 6 7 8 9 |10 11 12 13 14 \n",
        "_ _ * * * * * * * *  *  *  *  *  * \n"
      ],
      "execution_count": null,
      "outputs": []
    },
    {
      "cell_type": "code",
      "metadata": {
        "id": "O8LvspAgi_0Z",
        "colab_type": "code",
        "colab": {
          "base_uri": "https://localhost:8080/",
          "height": 388
        },
        "outputId": "eb94ef0a-b067-400f-b3f3-a1767f6fb197"
      },
      "source": [
        "#Simple Neural Network\n",
        "plt.figure(figsize=(10, 6))\n",
        "plot_series(time_valid, x_valid)\n",
        "plot_series(time_valid, results)"
      ],
      "execution_count": null,
      "outputs": [
        {
          "output_type": "display_data",
          "data": {
            "image/png": "[encoded data removed]",
            "text/plain": [
              "<Figure size 720x432 with 1 Axes>"
            ]
          },
          "metadata": {
            "tags": [],
            "needs_background": "light"
          }
        }
      ]
    },
    {
      "cell_type": "code",
      "metadata": {
        "id": "28Cgu9iki_5Z",
        "colab_type": "code",
        "colab": {
          "base_uri": "https://localhost:8080/",
          "height": 35
        },
        "outputId": "9d7b75c4-f03b-4e78-b78d-3965acac1ed5"
      },
      "source": [
        "#Simple Neural Network\n",
        "tf.keras.metrics.mean_absolute_error(x_valid, results).numpy()"
      ],
      "execution_count": null,
      "outputs": [
        {
          "output_type": "execute_result",
          "data": {
            "text/plain": [
              "13.793371"
            ]
          },
          "metadata": {
            "tags": []
          },
          "execution_count": 51
        }
      ]
    },
    {
      "cell_type": "code",
      "metadata": {
        "id": "wGVxlqxQs_xP",
        "colab_type": "code",
        "colab": {}
      },
      "source": [
        "#Using LSTM \n",
        "def windowed_dataset(series, window_size, batch_size, shuffle_buffer):\n",
        "    series = tf.expand_dims(series, axis=-1)\n",
        "    ds = tf.data.Dataset.from_tensor_slices(series)\n",
        "    ds = ds.window(window_size + 1, shift=1, drop_remainder=True)\n",
        "    ds = ds.flat_map(lambda w: w.batch(window_size + 1))\n",
        "    ds = ds.shuffle(shuffle_buffer)\n",
        "    ds = ds.map(lambda w: (w[:-1], w[1:]))\n",
        "    return ds.batch(batch_size).prefetch(1)"
      ],
      "execution_count": null,
      "outputs": []
    },
    {
      "cell_type": "code",
      "metadata": {
        "id": "9JPrPqJPtfIm",
        "colab_type": "code",
        "colab": {}
      },
      "source": [
        "window_size = 30\n",
        "batch_size = 32\n",
        "shuffle_buffer_size = 1000\n",
        "train_set = windowed_dataset(x_train, window_size, batch_size=128, shuffle_buffer=shuffle_buffer_size)"
      ],
      "execution_count": null,
      "outputs": []
    },
    {
      "cell_type": "code",
      "metadata": {
        "id": "UxT0fBHHtlW2",
        "colab_type": "code",
        "colab": {
          "base_uri": "https://localhost:8080/",
          "height": 1000
        },
        "outputId": "21d3f15f-d9fd-4799-82fd-0646602174d5"
      },
      "source": [
        "model2 = tf.keras.models.Sequential([\n",
        "  tf.keras.layers.Conv1D(filters=32, kernel_size=5,strides=1, padding=\"causal\",activation=\"relu\",input_shape=[None, 1]),\n",
        "  tf.keras.layers.Bidirectional(tf.keras.layers.LSTM(32, return_sequences=True)),\n",
        "  tf.keras.layers.Bidirectional(tf.keras.layers.LSTM(32, return_sequences=True)),\n",
        "  tf.keras.layers.Dense(1),\n",
        "  tf.keras.layers.Lambda(lambda x: x * 200)\n",
        "])\n",
        "lr_schedule = tf.keras.callbacks.LearningRateScheduler(lambda epoch: 1e-8 * 10**(epoch / 20))\n",
        "optimizer = tf.keras.optimizers.SGD(lr=1e-5, momentum=0.9)\n",
        "model2.compile(loss=tf.keras.losses.Huber(),optimizer=optimizer,metrics=[\"mae\"])\n",
        "history = model2.fit(train_set, epochs=100, callbacks=[lr_schedule])"
      ],
      "execution_count": null,
      "outputs": [
        {
          "output_type": "stream",
          "text": [
            "Epoch 1/100\n",
            "24/24 [==============================] - 2s 79ms/step - loss: 137.2642 - mae: 137.7642 - lr: 1.0000e-08\n",
            "Epoch 2/100\n",
            "24/24 [==============================] - 2s 75ms/step - loss: 124.3935 - mae: 124.8934 - lr: 1.1220e-08\n",
            "Epoch 3/100\n",
            "24/24 [==============================] - 2s 77ms/step - loss: 110.2697 - mae: 110.7696 - lr: 1.2589e-08\n",
            "Epoch 4/100\n",
            "24/24 [==============================] - 2s 76ms/step - loss: 96.8557 - mae: 97.3554 - lr: 1.4125e-08\n",
            "Epoch 5/100\n",
            "24/24 [==============================] - 2s 76ms/step - loss: 83.9904 - mae: 84.4898 - lr: 1.5849e-08\n",
            "Epoch 6/100\n",
            "24/24 [==============================] - 2s 76ms/step - loss: 71.5914 - mae: 72.0902 - lr: 1.7783e-08\n",
            "Epoch 7/100\n",
            "24/24 [==============================] - 2s 76ms/step - loss: 60.2195 - mae: 60.7173 - lr: 1.9953e-08\n",
            "Epoch 8/100\n",
            "24/24 [==============================] - 2s 74ms/step - loss: 51.1243 - mae: 51.6217 - lr: 2.2387e-08\n",
            "Epoch 9/100\n",
            "24/24 [==============================] - 2s 75ms/step - loss: 44.9011 - mae: 45.3982 - lr: 2.5119e-08\n",
            "Epoch 10/100\n",
            "24/24 [==============================] - 2s 75ms/step - loss: 41.1711 - mae: 41.6681 - lr: 2.8184e-08\n",
            "Epoch 11/100\n",
            "24/24 [==============================] - 2s 74ms/step - loss: 38.9547 - mae: 39.4513 - lr: 3.1623e-08\n",
            "Epoch 12/100\n",
            "24/24 [==============================] - 2s 77ms/step - loss: 37.5310 - mae: 38.0277 - lr: 3.5481e-08\n",
            "Epoch 13/100\n",
            "24/24 [==============================] - 2s 75ms/step - loss: 36.3586 - mae: 36.8550 - lr: 3.9811e-08\n",
            "Epoch 14/100\n",
            "24/24 [==============================] - 2s 76ms/step - loss: 35.2061 - mae: 35.7025 - lr: 4.4668e-08\n",
            "Epoch 15/100\n",
            "24/24 [==============================] - 2s 75ms/step - loss: 34.4042 - mae: 34.9005 - lr: 5.0119e-08\n",
            "Epoch 16/100\n",
            "24/24 [==============================] - 2s 74ms/step - loss: 33.8508 - mae: 34.3472 - lr: 5.6234e-08\n",
            "Epoch 17/100\n",
            "24/24 [==============================] - 2s 77ms/step - loss: 33.3388 - mae: 33.8351 - lr: 6.3096e-08\n",
            "Epoch 18/100\n",
            "24/24 [==============================] - 2s 75ms/step - loss: 32.8350 - mae: 33.3311 - lr: 7.0795e-08\n",
            "Epoch 19/100\n",
            "24/24 [==============================] - 2s 74ms/step - loss: 32.3070 - mae: 32.8031 - lr: 7.9433e-08\n",
            "Epoch 20/100\n",
            "24/24 [==============================] - 2s 76ms/step - loss: 31.7356 - mae: 32.2318 - lr: 8.9125e-08\n",
            "Epoch 21/100\n",
            "24/24 [==============================] - 2s 75ms/step - loss: 31.1225 - mae: 31.6184 - lr: 1.0000e-07\n",
            "Epoch 22/100\n",
            "24/24 [==============================] - 2s 76ms/step - loss: 30.4406 - mae: 30.9366 - lr: 1.1220e-07\n",
            "Epoch 23/100\n",
            "24/24 [==============================] - 2s 76ms/step - loss: 29.7738 - mae: 30.2696 - lr: 1.2589e-07\n",
            "Epoch 24/100\n",
            "24/24 [==============================] - 2s 74ms/step - loss: 29.0716 - mae: 29.5673 - lr: 1.4125e-07\n",
            "Epoch 25/100\n",
            "24/24 [==============================] - 2s 76ms/step - loss: 28.4279 - mae: 28.9233 - lr: 1.5849e-07\n",
            "Epoch 26/100\n",
            "24/24 [==============================] - 2s 75ms/step - loss: 27.8381 - mae: 28.3334 - lr: 1.7783e-07\n",
            "Epoch 27/100\n",
            "24/24 [==============================] - 2s 75ms/step - loss: 27.2921 - mae: 27.7873 - lr: 1.9953e-07\n",
            "Epoch 28/100\n",
            "24/24 [==============================] - 2s 77ms/step - loss: 26.7292 - mae: 27.2243 - lr: 2.2387e-07\n",
            "Epoch 29/100\n",
            "24/24 [==============================] - 2s 75ms/step - loss: 26.2154 - mae: 26.7104 - lr: 2.5119e-07\n",
            "Epoch 30/100\n",
            "24/24 [==============================] - 2s 75ms/step - loss: 25.7026 - mae: 26.1977 - lr: 2.8184e-07\n",
            "Epoch 31/100\n",
            "24/24 [==============================] - 2s 75ms/step - loss: 25.1654 - mae: 25.6602 - lr: 3.1623e-07\n",
            "Epoch 32/100\n",
            "24/24 [==============================] - 2s 76ms/step - loss: 24.6687 - mae: 25.1634 - lr: 3.5481e-07\n",
            "Epoch 33/100\n",
            "24/24 [==============================] - 2s 75ms/step - loss: 24.1944 - mae: 24.6888 - lr: 3.9811e-07\n",
            "Epoch 34/100\n",
            "24/24 [==============================] - 2s 76ms/step - loss: 23.7076 - mae: 24.2019 - lr: 4.4668e-07\n",
            "Epoch 35/100\n",
            "24/24 [==============================] - 2s 76ms/step - loss: 23.1739 - mae: 23.6682 - lr: 5.0119e-07\n",
            "Epoch 36/100\n",
            "24/24 [==============================] - 2s 75ms/step - loss: 22.6172 - mae: 23.1113 - lr: 5.6234e-07\n",
            "Epoch 37/100\n",
            "24/24 [==============================] - 2s 75ms/step - loss: 22.0783 - mae: 22.5722 - lr: 6.3096e-07\n",
            "Epoch 38/100\n",
            "24/24 [==============================] - 2s 75ms/step - loss: 21.5908 - mae: 22.0845 - lr: 7.0795e-07\n",
            "Epoch 39/100\n",
            "24/24 [==============================] - 2s 76ms/step - loss: 21.1591 - mae: 21.6528 - lr: 7.9433e-07\n",
            "Epoch 40/100\n",
            "24/24 [==============================] - 2s 76ms/step - loss: 20.6381 - mae: 21.1313 - lr: 8.9125e-07\n",
            "Epoch 41/100\n",
            "24/24 [==============================] - 2s 75ms/step - loss: 20.2042 - mae: 20.6974 - lr: 1.0000e-06\n",
            "Epoch 42/100\n",
            "24/24 [==============================] - 2s 75ms/step - loss: 19.7329 - mae: 20.2259 - lr: 1.1220e-06\n",
            "Epoch 43/100\n",
            "24/24 [==============================] - 2s 75ms/step - loss: 19.3579 - mae: 19.8507 - lr: 1.2589e-06\n",
            "Epoch 44/100\n",
            "24/24 [==============================] - 2s 76ms/step - loss: 19.0007 - mae: 19.4933 - lr: 1.4125e-06\n",
            "Epoch 45/100\n",
            "24/24 [==============================] - 2s 74ms/step - loss: 18.6659 - mae: 19.1587 - lr: 1.5849e-06\n",
            "Epoch 46/100\n",
            "24/24 [==============================] - 2s 76ms/step - loss: 18.3530 - mae: 18.8454 - lr: 1.7783e-06\n",
            "Epoch 47/100\n",
            "24/24 [==============================] - 2s 75ms/step - loss: 18.0518 - mae: 18.5441 - lr: 1.9953e-06\n",
            "Epoch 48/100\n",
            "24/24 [==============================] - 2s 76ms/step - loss: 17.8468 - mae: 18.3388 - lr: 2.2387e-06\n",
            "Epoch 49/100\n",
            "24/24 [==============================] - 2s 76ms/step - loss: 17.5308 - mae: 18.0230 - lr: 2.5119e-06\n",
            "Epoch 50/100\n",
            "24/24 [==============================] - 2s 76ms/step - loss: 17.2327 - mae: 17.7249 - lr: 2.8184e-06\n",
            "Epoch 51/100\n",
            "24/24 [==============================] - 2s 74ms/step - loss: 16.9105 - mae: 17.4024 - lr: 3.1623e-06\n",
            "Epoch 52/100\n",
            "24/24 [==============================] - 2s 74ms/step - loss: 16.6499 - mae: 17.1418 - lr: 3.5481e-06\n",
            "Epoch 53/100\n",
            "24/24 [==============================] - 2s 75ms/step - loss: 16.3523 - mae: 16.8438 - lr: 3.9811e-06\n",
            "Epoch 54/100\n",
            "24/24 [==============================] - 2s 76ms/step - loss: 16.1319 - mae: 16.6234 - lr: 4.4668e-06\n",
            "Epoch 55/100\n",
            "24/24 [==============================] - 2s 75ms/step - loss: 15.7961 - mae: 16.2870 - lr: 5.0119e-06\n",
            "Epoch 56/100\n",
            "24/24 [==============================] - 2s 76ms/step - loss: 15.5190 - mae: 16.0101 - lr: 5.6234e-06\n",
            "Epoch 57/100\n",
            "24/24 [==============================] - 2s 76ms/step - loss: 15.2849 - mae: 15.7759 - lr: 6.3096e-06\n",
            "Epoch 58/100\n",
            "24/24 [==============================] - 2s 75ms/step - loss: 15.3340 - mae: 15.8247 - lr: 7.0795e-06\n",
            "Epoch 59/100\n",
            "24/24 [==============================] - 2s 74ms/step - loss: 14.9940 - mae: 15.4846 - lr: 7.9433e-06\n",
            "Epoch 60/100\n",
            "24/24 [==============================] - 2s 76ms/step - loss: 15.2953 - mae: 15.7862 - lr: 8.9125e-06\n",
            "Epoch 61/100\n",
            "24/24 [==============================] - 2s 76ms/step - loss: 17.5952 - mae: 18.0868 - lr: 1.0000e-05\n",
            "Epoch 62/100\n",
            "24/24 [==============================] - 2s 75ms/step - loss: 17.4213 - mae: 17.9132 - lr: 1.1220e-05\n",
            "Epoch 63/100\n",
            "24/24 [==============================] - 2s 74ms/step - loss: 15.1700 - mae: 15.6608 - lr: 1.2589e-05\n",
            "Epoch 64/100\n",
            "24/24 [==============================] - 2s 76ms/step - loss: 18.8960 - mae: 19.3887 - lr: 1.4125e-05\n",
            "Epoch 65/100\n",
            "24/24 [==============================] - 2s 77ms/step - loss: 15.6937 - mae: 16.1843 - lr: 1.5849e-05\n",
            "Epoch 66/100\n",
            "24/24 [==============================] - 2s 75ms/step - loss: 15.5716 - mae: 16.0624 - lr: 1.7783e-05\n",
            "Epoch 67/100\n",
            "24/24 [==============================] - 2s 74ms/step - loss: 14.4896 - mae: 14.9798 - lr: 1.9953e-05\n",
            "Epoch 68/100\n",
            "24/24 [==============================] - 2s 76ms/step - loss: 14.7248 - mae: 15.2151 - lr: 2.2387e-05\n",
            "Epoch 69/100\n",
            "24/24 [==============================] - 2s 76ms/step - loss: 15.6841 - mae: 16.1753 - lr: 2.5119e-05\n",
            "Epoch 70/100\n",
            "24/24 [==============================] - 2s 75ms/step - loss: 16.0114 - mae: 16.5026 - lr: 2.8184e-05\n",
            "Epoch 71/100\n",
            "24/24 [==============================] - 2s 75ms/step - loss: 14.2123 - mae: 14.7023 - lr: 3.1623e-05\n",
            "Epoch 72/100\n",
            "24/24 [==============================] - 2s 76ms/step - loss: 15.1455 - mae: 15.6367 - lr: 3.5481e-05\n",
            "Epoch 73/100\n",
            "24/24 [==============================] - 2s 75ms/step - loss: 22.1144 - mae: 22.6080 - lr: 3.9811e-05\n",
            "Epoch 74/100\n",
            "24/24 [==============================] - 2s 75ms/step - loss: 23.8925 - mae: 24.3864 - lr: 4.4668e-05\n",
            "Epoch 75/100\n",
            "24/24 [==============================] - 2s 74ms/step - loss: 25.5931 - mae: 26.0883 - lr: 5.0119e-05\n",
            "Epoch 76/100\n",
            "24/24 [==============================] - 2s 76ms/step - loss: 23.8011 - mae: 24.2959 - lr: 5.6234e-05\n",
            "Epoch 77/100\n",
            "24/24 [==============================] - 2s 76ms/step - loss: 21.0712 - mae: 21.5641 - lr: 6.3096e-05\n",
            "Epoch 78/100\n",
            "24/24 [==============================] - 2s 75ms/step - loss: 19.9917 - mae: 20.4847 - lr: 7.0795e-05\n",
            "Epoch 79/100\n",
            "24/24 [==============================] - 2s 75ms/step - loss: 18.1302 - mae: 18.6231 - lr: 7.9433e-05\n",
            "Epoch 80/100\n",
            "24/24 [==============================] - 2s 74ms/step - loss: 16.6620 - mae: 17.1542 - lr: 8.9125e-05\n",
            "Epoch 81/100\n",
            "24/24 [==============================] - 2s 75ms/step - loss: 24.1433 - mae: 24.6380 - lr: 1.0000e-04\n",
            "Epoch 82/100\n",
            "24/24 [==============================] - 2s 75ms/step - loss: 20.7705 - mae: 21.2639 - lr: 1.1220e-04\n",
            "Epoch 83/100\n",
            "24/24 [==============================] - 2s 74ms/step - loss: 21.7913 - mae: 22.2850 - lr: 1.2589e-04\n",
            "Epoch 84/100\n",
            "24/24 [==============================] - 2s 75ms/step - loss: 28.5201 - mae: 29.0159 - lr: 1.4125e-04\n",
            "Epoch 85/100\n",
            "24/24 [==============================] - 2s 76ms/step - loss: 19.0442 - mae: 19.5373 - lr: 1.5849e-04\n",
            "Epoch 86/100\n",
            "24/24 [==============================] - 2s 77ms/step - loss: 23.5300 - mae: 24.0245 - lr: 1.7783e-04\n",
            "Epoch 87/100\n",
            "24/24 [==============================] - 2s 76ms/step - loss: 22.9344 - mae: 23.4289 - lr: 1.9953e-04\n",
            "Epoch 88/100\n",
            "24/24 [==============================] - 2s 76ms/step - loss: 34.7051 - mae: 35.2015 - lr: 2.2387e-04\n",
            "Epoch 89/100\n",
            "24/24 [==============================] - 2s 75ms/step - loss: 22.3512 - mae: 22.8449 - lr: 2.5119e-04\n",
            "Epoch 90/100\n",
            "24/24 [==============================] - 2s 76ms/step - loss: 21.8067 - mae: 22.3012 - lr: 2.8184e-04\n",
            "Epoch 91/100\n",
            "24/24 [==============================] - 2s 75ms/step - loss: 24.5840 - mae: 25.0794 - lr: 3.1623e-04\n",
            "Epoch 92/100\n",
            "24/24 [==============================] - 2s 77ms/step - loss: 25.1840 - mae: 25.6789 - lr: 3.5481e-04\n",
            "Epoch 93/100\n",
            "24/24 [==============================] - 2s 76ms/step - loss: 27.1877 - mae: 27.6819 - lr: 3.9811e-04\n",
            "Epoch 94/100\n",
            "24/24 [==============================] - 2s 77ms/step - loss: 33.0003 - mae: 33.4965 - lr: 4.4668e-04\n",
            "Epoch 95/100\n",
            "24/24 [==============================] - 2s 75ms/step - loss: 74.6066 - mae: 75.1051 - lr: 5.0119e-04\n",
            "Epoch 96/100\n",
            "24/24 [==============================] - 2s 76ms/step - loss: 50.1658 - mae: 50.6634 - lr: 5.6234e-04\n",
            "Epoch 97/100\n",
            "24/24 [==============================] - 2s 78ms/step - loss: 54.7441 - mae: 55.2422 - lr: 6.3096e-04\n",
            "Epoch 98/100\n",
            "24/24 [==============================] - 2s 76ms/step - loss: 38.4628 - mae: 38.9595 - lr: 7.0795e-04\n",
            "Epoch 99/100\n",
            "24/24 [==============================] - 2s 75ms/step - loss: 39.8233 - mae: 40.3202 - lr: 7.9433e-04\n",
            "Epoch 100/100\n",
            "24/24 [==============================] - 2s 77ms/step - loss: 56.1820 - mae: 56.6800 - lr: 8.9125e-04\n"
          ],
          "name": "stdout"
        }
      ]
    },
    {
      "cell_type": "code",
      "metadata": {
        "id": "AKhVL5ktuERI",
        "colab_type": "code",
        "colab": {
          "base_uri": "https://localhost:8080/",
          "height": 291
        },
        "outputId": "168597d0-8160-47d0-b02b-9b006124a6cb"
      },
      "source": [
        "plt.semilogx(history.history[\"lr\"], history.history[\"loss\"])\n",
        "plt.axis([1e-8, 1e-4, 0, 30])"
      ],
      "execution_count": null,
      "outputs": [
        {
          "output_type": "execute_result",
          "data": {
            "text/plain": [
              "(1e-08, 0.0001, 0.0, 30.0)"
            ]
          },
          "metadata": {
            "tags": []
          },
          "execution_count": 58
        },
        {
          "output_type": "display_data",
          "data": {
            "image/png": "[encoded data removed]",
            "text/plain": [
              "<Figure size 432x288 with 1 Axes>"
            ]
          },
          "metadata": {
            "tags": [],
            "needs_background": "light"
          }
        }
      ]
    },
    {
      "cell_type": "code",
      "metadata": {
        "id": "onYd_tr4v_BI",
        "colab_type": "code",
        "colab": {
          "base_uri": "https://localhost:8080/",
          "height": 1000
        },
        "outputId": "c22aeb26-ba99-4fed-d2af-b505dbebcc69"
      },
      "source": [
        "model3 = tf.keras.models.Sequential([\n",
        "  tf.keras.layers.Conv1D(filters=32, kernel_size=5,strides=1, padding=\"causal\",activation=\"relu\",input_shape=[None, 1]),\n",
        "  tf.keras.layers.Bidirectional(tf.keras.layers.LSTM(32, return_sequences=True)),\n",
        "  tf.keras.layers.Bidirectional(tf.keras.layers.LSTM(32, return_sequences=True)),\n",
        "  tf.keras.layers.Dense(1),\n",
        "  tf.keras.layers.Lambda(lambda x: x * 200)\n",
        "])\n",
        "optimizer = tf.keras.optimizers.SGD(lr=1e-5, momentum=0.9)\n",
        "model3.compile(loss=tf.keras.losses.Huber(),optimizer=optimizer,metrics=[\"mae\"])\n",
        "history = model3.fit(train_set,epochs=100)"
      ],
      "execution_count": null,
      "outputs": [
        {
          "output_type": "stream",
          "text": [
            "Epoch 1/100\n",
            "24/24 [==============================] - 2s 74ms/step - loss: 34.6112 - mae: 35.1072\n",
            "Epoch 2/100\n",
            "24/24 [==============================] - 2s 73ms/step - loss: 24.0726 - mae: 24.5668\n",
            "Epoch 3/100\n",
            "24/24 [==============================] - 2s 75ms/step - loss: 20.2192 - mae: 20.7123\n",
            "Epoch 4/100\n",
            "24/24 [==============================] - 2s 75ms/step - loss: 18.0880 - mae: 18.5802\n",
            "Epoch 5/100\n",
            "24/24 [==============================] - 2s 73ms/step - loss: 17.1665 - mae: 17.6584\n",
            "Epoch 6/100\n",
            "24/24 [==============================] - 2s 74ms/step - loss: 16.4559 - mae: 16.9471\n",
            "Epoch 7/100\n",
            "24/24 [==============================] - 2s 73ms/step - loss: 16.1405 - mae: 16.6316\n",
            "Epoch 8/100\n",
            "24/24 [==============================] - 2s 75ms/step - loss: 15.5206 - mae: 16.0111\n",
            "Epoch 9/100\n",
            "24/24 [==============================] - 2s 75ms/step - loss: 16.8011 - mae: 17.2925\n",
            "Epoch 10/100\n",
            "24/24 [==============================] - 2s 73ms/step - loss: 15.9523 - mae: 16.4436\n",
            "Epoch 11/100\n",
            "24/24 [==============================] - 2s 73ms/step - loss: 15.8969 - mae: 16.3876\n",
            "Epoch 12/100\n",
            "24/24 [==============================] - 2s 73ms/step - loss: 15.1139 - mae: 15.6044\n",
            "Epoch 13/100\n",
            "24/24 [==============================] - 2s 72ms/step - loss: 15.0968 - mae: 15.5873\n",
            "Epoch 14/100\n",
            "24/24 [==============================] - 2s 74ms/step - loss: 14.4740 - mae: 14.9640\n",
            "Epoch 15/100\n",
            "24/24 [==============================] - 2s 75ms/step - loss: 14.5257 - mae: 15.0158\n",
            "Epoch 16/100\n",
            "24/24 [==============================] - 2s 75ms/step - loss: 14.9613 - mae: 15.4514\n",
            "Epoch 17/100\n",
            "24/24 [==============================] - 2s 74ms/step - loss: 14.0211 - mae: 14.5108\n",
            "Epoch 18/100\n",
            "24/24 [==============================] - 2s 74ms/step - loss: 13.8565 - mae: 14.3459\n",
            "Epoch 19/100\n",
            "24/24 [==============================] - 2s 74ms/step - loss: 14.1069 - mae: 14.5965\n",
            "Epoch 20/100\n",
            "24/24 [==============================] - 2s 75ms/step - loss: 14.1210 - mae: 14.6103\n",
            "Epoch 21/100\n",
            "24/24 [==============================] - 2s 74ms/step - loss: 13.7491 - mae: 14.2385\n",
            "Epoch 22/100\n",
            "24/24 [==============================] - 2s 74ms/step - loss: 13.8099 - mae: 14.2992\n",
            "Epoch 23/100\n",
            "24/24 [==============================] - 2s 73ms/step - loss: 13.7684 - mae: 14.2578\n",
            "Epoch 24/100\n",
            "24/24 [==============================] - 2s 74ms/step - loss: 13.3653 - mae: 13.8546\n",
            "Epoch 25/100\n",
            "24/24 [==============================] - 2s 74ms/step - loss: 13.1832 - mae: 13.6720\n",
            "Epoch 26/100\n",
            "24/24 [==============================] - 2s 73ms/step - loss: 13.0304 - mae: 13.5190\n",
            "Epoch 27/100\n",
            "24/24 [==============================] - 2s 74ms/step - loss: 13.1060 - mae: 13.5950\n",
            "Epoch 28/100\n",
            "24/24 [==============================] - 2s 75ms/step - loss: 12.7097 - mae: 13.1983\n",
            "Epoch 29/100\n",
            "24/24 [==============================] - 2s 74ms/step - loss: 12.6587 - mae: 13.1471\n",
            "Epoch 30/100\n",
            "24/24 [==============================] - 2s 73ms/step - loss: 12.8792 - mae: 13.3678\n",
            "Epoch 31/100\n",
            "24/24 [==============================] - 2s 75ms/step - loss: 12.3384 - mae: 12.8266\n",
            "Epoch 32/100\n",
            "24/24 [==============================] - 2s 74ms/step - loss: 12.3808 - mae: 12.8691\n",
            "Epoch 33/100\n",
            "24/24 [==============================] - 2s 75ms/step - loss: 12.4485 - mae: 12.9367\n",
            "Epoch 34/100\n",
            "24/24 [==============================] - 2s 73ms/step - loss: 12.3254 - mae: 12.8133\n",
            "Epoch 35/100\n",
            "24/24 [==============================] - 2s 74ms/step - loss: 12.2468 - mae: 12.7349\n",
            "Epoch 36/100\n",
            "24/24 [==============================] - 2s 75ms/step - loss: 11.9604 - mae: 12.4482\n",
            "Epoch 37/100\n",
            "24/24 [==============================] - 2s 74ms/step - loss: 11.7476 - mae: 12.2354\n",
            "Epoch 38/100\n",
            "24/24 [==============================] - 2s 75ms/step - loss: 11.5711 - mae: 12.0584\n",
            "Epoch 39/100\n",
            "24/24 [==============================] - 2s 74ms/step - loss: 11.6418 - mae: 12.1290\n",
            "Epoch 40/100\n",
            "24/24 [==============================] - 2s 74ms/step - loss: 11.5080 - mae: 11.9952\n",
            "Epoch 41/100\n",
            "24/24 [==============================] - 2s 74ms/step - loss: 11.3312 - mae: 11.8182\n",
            "Epoch 42/100\n",
            "24/24 [==============================] - 2s 76ms/step - loss: 11.4844 - mae: 11.9714\n",
            "Epoch 43/100\n",
            "24/24 [==============================] - 2s 75ms/step - loss: 11.3751 - mae: 11.8626\n",
            "Epoch 44/100\n",
            "24/24 [==============================] - 2s 74ms/step - loss: 11.0490 - mae: 11.5357\n",
            "Epoch 45/100\n",
            "24/24 [==============================] - 2s 75ms/step - loss: 10.9657 - mae: 11.4524\n",
            "Epoch 46/100\n",
            "24/24 [==============================] - 2s 75ms/step - loss: 11.4164 - mae: 11.9037\n",
            "Epoch 47/100\n",
            "24/24 [==============================] - 2s 76ms/step - loss: 11.0232 - mae: 11.5099\n",
            "Epoch 48/100\n",
            "24/24 [==============================] - 2s 75ms/step - loss: 10.7219 - mae: 11.2084\n",
            "Epoch 49/100\n",
            "24/24 [==============================] - 2s 75ms/step - loss: 10.6754 - mae: 11.1620\n",
            "Epoch 50/100\n",
            "24/24 [==============================] - 2s 74ms/step - loss: 10.6361 - mae: 11.1222\n",
            "Epoch 51/100\n",
            "24/24 [==============================] - 2s 74ms/step - loss: 10.9138 - mae: 11.4005\n",
            "Epoch 52/100\n",
            "24/24 [==============================] - 2s 78ms/step - loss: 10.5058 - mae: 10.9916\n",
            "Epoch 53/100\n",
            "24/24 [==============================] - 2s 74ms/step - loss: 10.4645 - mae: 10.9505\n",
            "Epoch 54/100\n",
            "24/24 [==============================] - 2s 75ms/step - loss: 10.4911 - mae: 10.9773\n",
            "Epoch 55/100\n",
            "24/24 [==============================] - 2s 74ms/step - loss: 10.4040 - mae: 10.8899\n",
            "Epoch 56/100\n",
            "24/24 [==============================] - 2s 74ms/step - loss: 10.2566 - mae: 10.7421\n",
            "Epoch 57/100\n",
            "24/24 [==============================] - 2s 74ms/step - loss: 10.3040 - mae: 10.7899\n",
            "Epoch 58/100\n",
            "24/24 [==============================] - 2s 74ms/step - loss: 10.1891 - mae: 10.6749\n",
            "Epoch 59/100\n",
            "24/24 [==============================] - 2s 75ms/step - loss: 10.1752 - mae: 10.6605\n",
            "Epoch 60/100\n",
            "24/24 [==============================] - 2s 75ms/step - loss: 10.1410 - mae: 10.6262\n",
            "Epoch 61/100\n",
            "24/24 [==============================] - 2s 75ms/step - loss: 9.9270 - mae: 10.4120\n",
            "Epoch 62/100\n",
            "24/24 [==============================] - 2s 74ms/step - loss: 10.0021 - mae: 10.4875\n",
            "Epoch 63/100\n",
            "24/24 [==============================] - 2s 74ms/step - loss: 10.0132 - mae: 10.4980\n",
            "Epoch 64/100\n",
            "24/24 [==============================] - 2s 74ms/step - loss: 9.9755 - mae: 10.4605\n",
            "Epoch 65/100\n",
            "24/24 [==============================] - 2s 74ms/step - loss: 9.7566 - mae: 10.2412\n",
            "Epoch 66/100\n",
            "24/24 [==============================] - 2s 75ms/step - loss: 9.8483 - mae: 10.3335\n",
            "Epoch 67/100\n",
            "24/24 [==============================] - 2s 74ms/step - loss: 9.6427 - mae: 10.1269\n",
            "Epoch 68/100\n",
            "24/24 [==============================] - 2s 75ms/step - loss: 9.5412 - mae: 10.0254\n",
            "Epoch 69/100\n",
            "24/24 [==============================] - 2s 76ms/step - loss: 9.5911 - mae: 10.0755\n",
            "Epoch 70/100\n",
            "24/24 [==============================] - 2s 74ms/step - loss: 9.4520 - mae: 9.9359\n",
            "Epoch 71/100\n",
            "24/24 [==============================] - 2s 74ms/step - loss: 9.4665 - mae: 9.9503\n",
            "Epoch 72/100\n",
            "24/24 [==============================] - 2s 74ms/step - loss: 9.4097 - mae: 9.8935\n",
            "Epoch 73/100\n",
            "24/24 [==============================] - 2s 74ms/step - loss: 9.2218 - mae: 9.7050\n",
            "Epoch 74/100\n",
            "24/24 [==============================] - 2s 76ms/step - loss: 9.2396 - mae: 9.7230\n",
            "Epoch 75/100\n",
            "24/24 [==============================] - 2s 74ms/step - loss: 9.3097 - mae: 9.7937\n",
            "Epoch 76/100\n",
            "24/24 [==============================] - 2s 74ms/step - loss: 9.3946 - mae: 9.8780\n",
            "Epoch 77/100\n",
            "24/24 [==============================] - 2s 75ms/step - loss: 9.1329 - mae: 9.6158\n",
            "Epoch 78/100\n",
            "24/24 [==============================] - 2s 74ms/step - loss: 9.0748 - mae: 9.5578\n",
            "Epoch 79/100\n",
            "24/24 [==============================] - 2s 75ms/step - loss: 9.2291 - mae: 9.7125\n",
            "Epoch 80/100\n",
            "24/24 [==============================] - 2s 73ms/step - loss: 8.9637 - mae: 9.4465\n",
            "Epoch 81/100\n",
            "24/24 [==============================] - 2s 74ms/step - loss: 8.8796 - mae: 9.3621\n",
            "Epoch 82/100\n",
            "24/24 [==============================] - 2s 74ms/step - loss: 8.9569 - mae: 9.4399\n",
            "Epoch 83/100\n",
            "24/24 [==============================] - 2s 74ms/step - loss: 8.8779 - mae: 9.3607\n",
            "Epoch 84/100\n",
            "24/24 [==============================] - 2s 75ms/step - loss: 9.0134 - mae: 9.4960\n",
            "Epoch 85/100\n",
            "24/24 [==============================] - 2s 74ms/step - loss: 8.9676 - mae: 9.4506\n",
            "Epoch 86/100\n",
            "24/24 [==============================] - 2s 74ms/step - loss: 8.6946 - mae: 9.1771\n",
            "Epoch 87/100\n",
            "24/24 [==============================] - 2s 75ms/step - loss: 9.0252 - mae: 9.5084\n",
            "Epoch 88/100\n",
            "24/24 [==============================] - 2s 75ms/step - loss: 8.7574 - mae: 9.2399\n",
            "Epoch 89/100\n",
            "24/24 [==============================] - 2s 74ms/step - loss: 8.5731 - mae: 9.0551\n",
            "Epoch 90/100\n",
            "24/24 [==============================] - 2s 74ms/step - loss: 8.5125 - mae: 8.9946\n",
            "Epoch 91/100\n",
            "24/24 [==============================] - 2s 74ms/step - loss: 8.5692 - mae: 9.0511\n",
            "Epoch 92/100\n",
            "24/24 [==============================] - 2s 75ms/step - loss: 8.4878 - mae: 8.9696\n",
            "Epoch 93/100\n",
            "24/24 [==============================] - 2s 74ms/step - loss: 8.9294 - mae: 9.4132\n",
            "Epoch 94/100\n",
            "24/24 [==============================] - 2s 74ms/step - loss: 8.5174 - mae: 8.9998\n",
            "Epoch 95/100\n",
            "24/24 [==============================] - 2s 75ms/step - loss: 8.4139 - mae: 8.8957\n",
            "Epoch 96/100\n",
            "24/24 [==============================] - 2s 75ms/step - loss: 8.4491 - mae: 8.9311\n",
            "Epoch 97/100\n",
            "24/24 [==============================] - 2s 74ms/step - loss: 8.4030 - mae: 8.8846\n",
            "Epoch 98/100\n",
            "24/24 [==============================] - 2s 74ms/step - loss: 8.1617 - mae: 8.6423\n",
            "Epoch 99/100\n",
            "24/24 [==============================] - 2s 74ms/step - loss: 8.2533 - mae: 8.7347\n",
            "Epoch 100/100\n",
            "24/24 [==============================] - 2s 75ms/step - loss: 8.1275 - mae: 8.6085\n"
          ],
          "name": "stdout"
        }
      ]
    },
    {
      "cell_type": "code",
      "metadata": {
        "id": "NKeinvAIvMZF",
        "colab_type": "code",
        "colab": {}
      },
      "source": [
        "def model_forecast(model, series, window_size):\n",
        "    ds = tf.data.Dataset.from_tensor_slices(series)\n",
        "    ds = ds.window(window_size, shift=1, drop_remainder=True)\n",
        "    ds = ds.flat_map(lambda w: w.batch(window_size))\n",
        "    ds = ds.batch(32).prefetch(1)\n",
        "    forecast = model.predict(ds)\n",
        "    return forecast"
      ],
      "execution_count": null,
      "outputs": []
    },
    {
      "cell_type": "code",
      "metadata": {
        "id": "qGJeruGCvVzc",
        "colab_type": "code",
        "colab": {}
      },
      "source": [
        "rnn_forecast = model_forecast(model3, series[..., np.newaxis], window_size)\n",
        "rnn_forecast = rnn_forecast[split_time - window_size:-1, -1, 0]"
      ],
      "execution_count": null,
      "outputs": []
    },
    {
      "cell_type": "code",
      "metadata": {
        "id": "-Y8GeF_bvicw",
        "colab_type": "code",
        "colab": {
          "base_uri": "https://localhost:8080/",
          "height": 388
        },
        "outputId": "cb5ebef4-78b5-4f80-c99e-163267522dfa"
      },
      "source": [
        "plt.figure(figsize=(10, 6))\n",
        "plot_series(time_valid, x_valid)\n",
        "plot_series(time_valid, rnn_forecast)"
      ],
      "execution_count": null,
      "outputs": [
        {
          "output_type": "display_data",
          "data": {
            "image/png": "[encoded data removed]",
            "text/plain": [
              "<Figure size 720x432 with 1 Axes>"
            ]
          },
          "metadata": {
            "tags": [],
            "needs_background": "light"
          }
        }
      ]
    },
    {
      "cell_type": "code",
      "metadata": {
        "id": "HsMZv5_EvnR9",
        "colab_type": "code",
        "colab": {
          "base_uri": "https://localhost:8080/",
          "height": 35
        },
        "outputId": "5c6d38f1-b85a-4384-df9b-f03526097d50"
      },
      "source": [
        "tf.keras.metrics.mean_absolute_error(x_valid, rnn_forecast).numpy()"
      ],
      "execution_count": null,
      "outputs": [
        {
          "output_type": "execute_result",
          "data": {
            "text/plain": [
              "15.765834"
            ]
          },
          "metadata": {
            "tags": []
          },
          "execution_count": 71
        }
      ]
    },
    {
      "cell_type": "code",
      "metadata": {
        "id": "mquWef18vrS-",
        "colab_type": "code",
        "colab": {
          "base_uri": "https://localhost:8080/",
          "height": 608
        },
        "outputId": "873589bb-3a16-4657-c22e-73b26917674b"
      },
      "source": [
        "import matplotlib.image  as mpimg\n",
        "import matplotlib.pyplot as plt\n",
        "\n",
        "#-----------------------------------------------------------\n",
        "# Retrieve a list of list results on training and test data\n",
        "# sets for each training epoch\n",
        "#-----------------------------------------------------------\n",
        "mae=history.history['mae']\n",
        "loss=history.history['loss']\n",
        "\n",
        "epochs=range(len(loss)) # Get number of epochs\n",
        "\n",
        "#------------------------------------------------\n",
        "# Plot MAE and Loss\n",
        "#------------------------------------------------\n",
        "plt.plot(epochs, mae, 'r')\n",
        "plt.plot(epochs, loss, 'b')\n",
        "plt.title('MAE and Loss')\n",
        "plt.xlabel(\"Epochs\")\n",
        "plt.ylabel(\"Accuracy\")\n",
        "plt.legend([\"MAE\", \"Loss\"])\n",
        "\n",
        "plt.figure()\n",
        "\n",
        "epochs_zoom = epochs[200:]\n",
        "mae_zoom = mae[200:]\n",
        "loss_zoom = loss[200:]\n",
        "\n",
        "#------------------------------------------------\n",
        "# Plot Zoomed MAE and Loss\n",
        "#------------------------------------------------\n",
        "plt.plot(epochs_zoom, mae_zoom, 'r')\n",
        "plt.plot(epochs_zoom, loss_zoom, 'b')\n",
        "plt.title('MAE and Loss')\n",
        "plt.xlabel(\"Epochs\")\n",
        "plt.ylabel(\"Accuracy\")\n",
        "plt.legend([\"MAE\", \"Loss\"])\n",
        "\n",
        "plt.figure()"
      ],
      "execution_count": null,
      "outputs": [
        {
          "output_type": "execute_result",
          "data": {
            "text/plain": [
              "<Figure size 432x288 with 0 Axes>"
            ]
          },
          "metadata": {
            "tags": []
          },
          "execution_count": 72
        },
        {
          "output_type": "display_data",
          "data": {
            "image/png": "[encoded data removed]",
            "text/plain": [
              "<Figure size 432x288 with 1 Axes>"
            ]
          },
          "metadata": {
            "tags": [],
            "needs_background": "light"
          }
        },
        {
          "output_type": "display_data",
          "data": {
            "image/png": "[encoded data removed]",
            "text/plain": [
              "<Figure size 432x288 with 1 Axes>"
            ]
          },
          "metadata": {
            "tags": [],
            "needs_background": "light"
          }
        },
        {
          "output_type": "display_data",
          "data": {
            "text/plain": [
              "<Figure size 432x288 with 0 Axes>"
            ]
          },
          "metadata": {
            "tags": []
          }
        }
      ]
    },
    {
      "cell_type": "code",
      "metadata": {
        "id": "O34z-UrG5y0j",
        "colab_type": "code",
        "colab": {}
      },
      "source": [
        "#Using Everything\n",
        "def windowed_dataset(series, window_size, batch_size, shuffle_buffer):\n",
        "    series = tf.expand_dims(series, axis=-1)\n",
        "    ds = tf.data.Dataset.from_tensor_slices(series)\n",
        "    ds = ds.window(window_size + 1, shift=1, drop_remainder=True)\n",
        "    ds = ds.flat_map(lambda w: w.batch(window_size + 1))\n",
        "    ds = ds.shuffle(shuffle_buffer)\n",
        "    ds = ds.map(lambda w: (w[:-1], w[1:]))\n",
        "    return ds.batch(batch_size).prefetch(1)"
      ],
      "execution_count": null,
      "outputs": []
    },
    {
      "cell_type": "code",
      "metadata": {
        "id": "0CFf8KIr3tc3",
        "colab_type": "code",
        "colab": {}
      },
      "source": [
        "window_size = 60 # Learning from 20 points and predicting the 21st\n",
        "batch_size = 64\n",
        "shuffle_buffer_size = 1000 #speeding up the training"
      ],
      "execution_count": null,
      "outputs": []
    },
    {
      "cell_type": "code",
      "metadata": {
        "id": "ssbPjUYN35AB",
        "colab_type": "code",
        "colab": {}
      },
      "source": [
        "\n",
        "train_set = windowed_dataset(x_train, window_size, batch_size=128, shuffle_buffer=shuffle_buffer_size)"
      ],
      "execution_count": null,
      "outputs": []
    },
    {
      "cell_type": "code",
      "metadata": {
        "id": "uupcimQswqjS",
        "colab_type": "code",
        "colab": {
          "base_uri": "https://localhost:8080/",
          "height": 1000
        },
        "outputId": "a3c1b442-4a7b-4b7d-a357-b8ae68ac380f"
      },
      "source": [
        "\n",
        "model4 = tf.keras.models.Sequential([\n",
        "  tf.keras.layers.Conv1D(filters=32, kernel_size=5,strides=1, padding=\"causal\",activation=\"relu\",input_shape=[None, 1]),\n",
        "  tf.keras.layers.Bidirectional(tf.keras.layers.LSTM(32, return_sequences=True)),\n",
        "  tf.keras.layers.Bidirectional(tf.keras.layers.LSTM(32, return_sequences=True)),\n",
        "  tf.keras.layers.Dense(10,activation=\"relu\"),\n",
        "  tf.keras.layers.Dense(10,activation=\"relu\"),\n",
        "  tf.keras.layers.Dense(1),\n",
        "  tf.keras.layers.Lambda(lambda x: x * 200.0)\n",
        "])\n",
        "\n",
        "lr_schedule = tf.keras.callbacks.LearningRateScheduler(lambda epoch: 1e-8 * 10**(epoch / 20))\n",
        "optimizer = tf.keras.optimizers.SGD(lr=1e-5, momentum=0.9)\n",
        "model4.compile(loss=tf.keras.losses.Huber(),optimizer=optimizer,metrics=[\"mae\"])\n",
        "history = model4.fit(train_set,epochs=100, callbacks=[lr_schedule])"
      ],
      "execution_count": null,
      "outputs": [
        {
          "output_type": "stream",
          "text": [
            "Epoch 1/100\n",
            "23/23 [==============================] - 3s 146ms/step - loss: 72.2864 - mae: 72.7840 - lr: 1.0000e-08\n",
            "Epoch 2/100\n",
            "23/23 [==============================] - 3s 148ms/step - loss: 71.6043 - mae: 72.1018 - lr: 1.1220e-08\n",
            "Epoch 3/100\n",
            "23/23 [==============================] - 3s 148ms/step - loss: 70.8258 - mae: 71.3234 - lr: 1.2589e-08\n",
            "Epoch 4/100\n",
            "23/23 [==============================] - 3s 146ms/step - loss: 70.0380 - mae: 70.5357 - lr: 1.4125e-08\n",
            "Epoch 5/100\n",
            "23/23 [==============================] - 3s 146ms/step - loss: 69.2387 - mae: 69.7365 - lr: 1.5849e-08\n",
            "Epoch 6/100\n",
            "23/23 [==============================] - 3s 146ms/step - loss: 68.4143 - mae: 68.9120 - lr: 1.7783e-08\n",
            "Epoch 7/100\n",
            "23/23 [==============================] - 3s 148ms/step - loss: 67.5563 - mae: 68.0540 - lr: 1.9953e-08\n",
            "Epoch 8/100\n",
            "23/23 [==============================] - 5s 233ms/step - loss: 66.6600 - mae: 67.1579 - lr: 2.2387e-08\n",
            "Epoch 9/100\n",
            "23/23 [==============================] - 6s 262ms/step - loss: 65.7147 - mae: 66.2125 - lr: 2.5119e-08\n",
            "Epoch 10/100\n",
            "23/23 [==============================] - 3s 145ms/step - loss: 64.7220 - mae: 65.2199 - lr: 2.8184e-08\n",
            "Epoch 11/100\n",
            "23/23 [==============================] - 3s 147ms/step - loss: 63.6886 - mae: 64.1861 - lr: 3.1623e-08\n",
            "Epoch 12/100\n",
            "23/23 [==============================] - 3s 148ms/step - loss: 62.6157 - mae: 63.1134 - lr: 3.5481e-08\n",
            "Epoch 13/100\n",
            "23/23 [==============================] - 3s 148ms/step - loss: 61.5409 - mae: 62.0385 - lr: 3.9811e-08\n",
            "Epoch 14/100\n",
            "23/23 [==============================] - 3s 148ms/step - loss: 60.4797 - mae: 60.9775 - lr: 4.4668e-08\n",
            "Epoch 15/100\n",
            "23/23 [==============================] - 3s 150ms/step - loss: 59.4826 - mae: 59.9804 - lr: 5.0119e-08\n",
            "Epoch 16/100\n",
            "23/23 [==============================] - 3s 148ms/step - loss: 58.5529 - mae: 59.0507 - lr: 5.6234e-08\n",
            "Epoch 17/100\n",
            "23/23 [==============================] - 3s 148ms/step - loss: 57.6855 - mae: 58.1832 - lr: 6.3096e-08\n",
            "Epoch 18/100\n",
            "23/23 [==============================] - 3s 148ms/step - loss: 56.8778 - mae: 57.3754 - lr: 7.0795e-08\n",
            "Epoch 19/100\n",
            "23/23 [==============================] - 3s 148ms/step - loss: 56.1249 - mae: 56.6224 - lr: 7.9433e-08\n",
            "Epoch 20/100\n",
            "23/23 [==============================] - 3s 148ms/step - loss: 55.4289 - mae: 55.9267 - lr: 8.9125e-08\n",
            "Epoch 21/100\n",
            "23/23 [==============================] - 3s 148ms/step - loss: 54.7638 - mae: 55.2615 - lr: 1.0000e-07\n",
            "Epoch 22/100\n",
            "23/23 [==============================] - 3s 148ms/step - loss: 54.1298 - mae: 54.6275 - lr: 1.1220e-07\n",
            "Epoch 23/100\n",
            "23/23 [==============================] - 4s 161ms/step - loss: 53.5247 - mae: 54.0224 - lr: 1.2589e-07\n",
            "Epoch 24/100\n",
            "23/23 [==============================] - 3s 151ms/step - loss: 52.9412 - mae: 53.4390 - lr: 1.4125e-07\n",
            "Epoch 25/100\n",
            "23/23 [==============================] - 3s 148ms/step - loss: 52.3670 - mae: 52.8649 - lr: 1.5849e-07\n",
            "Epoch 26/100\n",
            "23/23 [==============================] - 3s 147ms/step - loss: 51.8025 - mae: 52.3005 - lr: 1.7783e-07\n",
            "Epoch 27/100\n",
            "23/23 [==============================] - 3s 149ms/step - loss: 51.2268 - mae: 51.7247 - lr: 1.9953e-07\n",
            "Epoch 28/100\n",
            "23/23 [==============================] - 3s 148ms/step - loss: 50.6312 - mae: 51.1291 - lr: 2.2387e-07\n",
            "Epoch 29/100\n",
            "23/23 [==============================] - 3s 150ms/step - loss: 50.0024 - mae: 50.5002 - lr: 2.5119e-07\n",
            "Epoch 30/100\n",
            "23/23 [==============================] - 3s 150ms/step - loss: 49.3213 - mae: 49.8189 - lr: 2.8184e-07\n",
            "Epoch 31/100\n",
            "23/23 [==============================] - 3s 149ms/step - loss: 48.5792 - mae: 49.0769 - lr: 3.1623e-07\n",
            "Epoch 32/100\n",
            "23/23 [==============================] - 3s 150ms/step - loss: 47.7361 - mae: 48.2338 - lr: 3.5481e-07\n",
            "Epoch 33/100\n",
            "23/23 [==============================] - 3s 149ms/step - loss: 46.7475 - mae: 47.2450 - lr: 3.9811e-07\n",
            "Epoch 34/100\n",
            "23/23 [==============================] - 3s 149ms/step - loss: 45.5429 - mae: 46.0401 - lr: 4.4668e-07\n",
            "Epoch 35/100\n",
            "23/23 [==============================] - 3s 149ms/step - loss: 43.9979 - mae: 44.4952 - lr: 5.0119e-07\n",
            "Epoch 36/100\n",
            "23/23 [==============================] - 3s 150ms/step - loss: 42.0739 - mae: 42.5707 - lr: 5.6234e-07\n",
            "Epoch 37/100\n",
            "23/23 [==============================] - 3s 149ms/step - loss: 40.1604 - mae: 40.6568 - lr: 6.3096e-07\n",
            "Epoch 38/100\n",
            "23/23 [==============================] - 3s 151ms/step - loss: 38.3828 - mae: 38.8793 - lr: 7.0795e-07\n",
            "Epoch 39/100\n",
            "23/23 [==============================] - 3s 151ms/step - loss: 36.6992 - mae: 37.1955 - lr: 7.9433e-07\n",
            "Epoch 40/100\n",
            "23/23 [==============================] - 3s 152ms/step - loss: 35.0203 - mae: 35.5163 - lr: 8.9125e-07\n",
            "Epoch 41/100\n",
            "23/23 [==============================] - 3s 151ms/step - loss: 33.2447 - mae: 33.7402 - lr: 1.0000e-06\n",
            "Epoch 42/100\n",
            "23/23 [==============================] - 3s 149ms/step - loss: 31.4381 - mae: 31.9333 - lr: 1.1220e-06\n",
            "Epoch 43/100\n",
            "23/23 [==============================] - 3s 149ms/step - loss: 29.7150 - mae: 30.2096 - lr: 1.2589e-06\n",
            "Epoch 44/100\n",
            "23/23 [==============================] - 3s 148ms/step - loss: 28.2254 - mae: 28.7199 - lr: 1.4125e-06\n",
            "Epoch 45/100\n",
            "23/23 [==============================] - 3s 148ms/step - loss: 26.8761 - mae: 27.3704 - lr: 1.5849e-06\n",
            "Epoch 46/100\n",
            "23/23 [==============================] - 3s 151ms/step - loss: 25.6796 - mae: 26.1736 - lr: 1.7783e-06\n",
            "Epoch 47/100\n",
            "23/23 [==============================] - 3s 148ms/step - loss: 24.6411 - mae: 25.1347 - lr: 1.9953e-06\n",
            "Epoch 48/100\n",
            "23/23 [==============================] - 3s 148ms/step - loss: 23.6397 - mae: 24.1334 - lr: 2.2387e-06\n",
            "Epoch 49/100\n",
            "23/23 [==============================] - 3s 150ms/step - loss: 22.6966 - mae: 23.1899 - lr: 2.5119e-06\n",
            "Epoch 50/100\n",
            "23/23 [==============================] - 3s 149ms/step - loss: 21.8912 - mae: 22.3843 - lr: 2.8184e-06\n",
            "Epoch 51/100\n",
            "23/23 [==============================] - 3s 150ms/step - loss: 21.0871 - mae: 21.5797 - lr: 3.1623e-06\n",
            "Epoch 52/100\n",
            "23/23 [==============================] - 3s 150ms/step - loss: 20.2798 - mae: 20.7722 - lr: 3.5481e-06\n",
            "Epoch 53/100\n",
            "23/23 [==============================] - 3s 149ms/step - loss: 19.5094 - mae: 20.0017 - lr: 3.9811e-06\n",
            "Epoch 54/100\n",
            "23/23 [==============================] - 3s 149ms/step - loss: 18.8392 - mae: 19.3311 - lr: 4.4668e-06\n",
            "Epoch 55/100\n",
            "23/23 [==============================] - 3s 150ms/step - loss: 18.3746 - mae: 18.8667 - lr: 5.0119e-06\n",
            "Epoch 56/100\n",
            "23/23 [==============================] - 3s 150ms/step - loss: 17.7770 - mae: 18.2688 - lr: 5.6234e-06\n",
            "Epoch 57/100\n",
            "23/23 [==============================] - 3s 148ms/step - loss: 17.1407 - mae: 17.6324 - lr: 6.3096e-06\n",
            "Epoch 58/100\n",
            "23/23 [==============================] - 3s 149ms/step - loss: 16.6004 - mae: 17.0917 - lr: 7.0795e-06\n",
            "Epoch 59/100\n",
            "23/23 [==============================] - 3s 150ms/step - loss: 16.3248 - mae: 16.8160 - lr: 7.9433e-06\n",
            "Epoch 60/100\n",
            "23/23 [==============================] - 3s 151ms/step - loss: 16.0084 - mae: 16.4995 - lr: 8.9125e-06\n",
            "Epoch 61/100\n",
            "23/23 [==============================] - 3s 149ms/step - loss: 15.8839 - mae: 16.3748 - lr: 1.0000e-05\n",
            "Epoch 62/100\n",
            "23/23 [==============================] - 3s 149ms/step - loss: 15.3355 - mae: 15.8263 - lr: 1.1220e-05\n",
            "Epoch 63/100\n",
            "23/23 [==============================] - 3s 149ms/step - loss: 15.9039 - mae: 16.3949 - lr: 1.2589e-05\n",
            "Epoch 64/100\n",
            "23/23 [==============================] - 3s 149ms/step - loss: 15.7144 - mae: 16.2051 - lr: 1.4125e-05\n",
            "Epoch 65/100\n",
            "23/23 [==============================] - 3s 150ms/step - loss: 17.0787 - mae: 17.5701 - lr: 1.5849e-05\n",
            "Epoch 66/100\n",
            "23/23 [==============================] - 3s 150ms/step - loss: 16.1953 - mae: 16.6864 - lr: 1.7783e-05\n",
            "Epoch 67/100\n",
            "23/23 [==============================] - 3s 149ms/step - loss: 18.4343 - mae: 18.9267 - lr: 1.9953e-05\n",
            "Epoch 68/100\n",
            "23/23 [==============================] - 3s 149ms/step - loss: 15.2124 - mae: 15.7034 - lr: 2.2387e-05\n",
            "Epoch 69/100\n",
            "23/23 [==============================] - 3s 150ms/step - loss: 14.8446 - mae: 15.3353 - lr: 2.5119e-05\n",
            "Epoch 70/100\n",
            "23/23 [==============================] - 3s 150ms/step - loss: 14.3087 - mae: 14.7987 - lr: 2.8184e-05\n",
            "Epoch 71/100\n",
            "23/23 [==============================] - 3s 148ms/step - loss: 16.5251 - mae: 17.0165 - lr: 3.1623e-05\n",
            "Epoch 72/100\n",
            "23/23 [==============================] - 3s 150ms/step - loss: 15.9041 - mae: 16.3950 - lr: 3.5481e-05\n",
            "Epoch 73/100\n",
            "23/23 [==============================] - 3s 149ms/step - loss: 15.1653 - mae: 15.6556 - lr: 3.9811e-05\n",
            "Epoch 74/100\n",
            "23/23 [==============================] - 3s 149ms/step - loss: 22.8301 - mae: 23.3236 - lr: 4.4668e-05\n",
            "Epoch 75/100\n",
            "23/23 [==============================] - 3s 151ms/step - loss: 19.4777 - mae: 19.9701 - lr: 5.0119e-05\n",
            "Epoch 76/100\n",
            "23/23 [==============================] - 3s 148ms/step - loss: 16.3124 - mae: 16.8036 - lr: 5.6234e-05\n",
            "Epoch 77/100\n",
            "23/23 [==============================] - 3s 151ms/step - loss: 16.7715 - mae: 17.2627 - lr: 6.3096e-05\n",
            "Epoch 78/100\n",
            "23/23 [==============================] - 3s 149ms/step - loss: 24.3126 - mae: 24.8060 - lr: 7.0795e-05\n",
            "Epoch 79/100\n",
            "23/23 [==============================] - 3s 148ms/step - loss: 24.8222 - mae: 25.3154 - lr: 7.9433e-05\n",
            "Epoch 80/100\n",
            "23/23 [==============================] - 3s 150ms/step - loss: 22.2547 - mae: 22.7476 - lr: 8.9125e-05\n",
            "Epoch 81/100\n",
            "23/23 [==============================] - 3s 150ms/step - loss: 19.6934 - mae: 20.1853 - lr: 1.0000e-04\n",
            "Epoch 82/100\n",
            "23/23 [==============================] - 3s 149ms/step - loss: 21.2588 - mae: 21.7520 - lr: 1.1220e-04\n",
            "Epoch 83/100\n",
            "23/23 [==============================] - 3s 151ms/step - loss: 24.8354 - mae: 25.3290 - lr: 1.2589e-04\n",
            "Epoch 84/100\n",
            "23/23 [==============================] - 3s 150ms/step - loss: 27.1205 - mae: 27.6148 - lr: 1.4125e-04\n",
            "Epoch 85/100\n",
            "23/23 [==============================] - 3s 150ms/step - loss: 40.6528 - mae: 41.1492 - lr: 1.5849e-04\n",
            "Epoch 86/100\n",
            "23/23 [==============================] - 3s 149ms/step - loss: 35.2924 - mae: 35.7880 - lr: 1.7783e-04\n",
            "Epoch 87/100\n",
            "23/23 [==============================] - 3s 148ms/step - loss: 23.7631 - mae: 24.2569 - lr: 1.9953e-04\n",
            "Epoch 88/100\n",
            "23/23 [==============================] - 3s 147ms/step - loss: 20.7491 - mae: 21.2421 - lr: 2.2387e-04\n",
            "Epoch 89/100\n",
            "23/23 [==============================] - 4s 153ms/step - loss: 20.7798 - mae: 21.2731 - lr: 2.5119e-04\n",
            "Epoch 90/100\n",
            "23/23 [==============================] - 3s 151ms/step - loss: 23.8865 - mae: 24.3809 - lr: 2.8184e-04\n",
            "Epoch 91/100\n",
            "23/23 [==============================] - 3s 148ms/step - loss: 22.3617 - mae: 22.8555 - lr: 3.1623e-04\n",
            "Epoch 92/100\n",
            "23/23 [==============================] - 3s 149ms/step - loss: 21.0026 - mae: 21.4962 - lr: 3.5481e-04\n",
            "Epoch 93/100\n",
            "23/23 [==============================] - 3s 148ms/step - loss: 27.8163 - mae: 28.3115 - lr: 3.9811e-04\n",
            "Epoch 94/100\n",
            "23/23 [==============================] - 3s 150ms/step - loss: 28.3320 - mae: 28.8271 - lr: 4.4668e-04\n",
            "Epoch 95/100\n",
            "23/23 [==============================] - 3s 149ms/step - loss: 30.2207 - mae: 30.7166 - lr: 5.0119e-04\n",
            "Epoch 96/100\n",
            "23/23 [==============================] - 3s 147ms/step - loss: 41.4670 - mae: 41.9640 - lr: 5.6234e-04\n",
            "Epoch 97/100\n",
            "23/23 [==============================] - 3s 149ms/step - loss: 47.2957 - mae: 47.7932 - lr: 6.3096e-04\n",
            "Epoch 98/100\n",
            "23/23 [==============================] - 3s 150ms/step - loss: 44.2993 - mae: 44.7961 - lr: 7.0795e-04\n",
            "Epoch 99/100\n",
            "23/23 [==============================] - 3s 149ms/step - loss: 44.2740 - mae: 44.7715 - lr: 7.9433e-04\n",
            "Epoch 100/100\n",
            "23/23 [==============================] - 3s 151ms/step - loss: 41.8929 - mae: 42.3899 - lr: 8.9125e-04\n"
          ],
          "name": "stdout"
        }
      ]
    },
    {
      "cell_type": "code",
      "metadata": {
        "id": "4c-ZKGCm8ePl",
        "colab_type": "code",
        "colab": {
          "base_uri": "https://localhost:8080/",
          "height": 291
        },
        "outputId": "108fc8eb-4a0a-4dc1-ce0a-165db763067f"
      },
      "source": [
        "plt.semilogx(history.history[\"lr\"], history.history[\"loss\"])\n",
        "plt.axis([1e-8, 1e-4, 0, 30])"
      ],
      "execution_count": null,
      "outputs": [
        {
          "output_type": "execute_result",
          "data": {
            "text/plain": [
              "(1e-08, 0.0001, 0.0, 30.0)"
            ]
          },
          "metadata": {
            "tags": []
          },
          "execution_count": 93
        },
        {
          "output_type": "display_data",
          "data": {
            "image/png": "[encoded data removed]",
            "text/plain": [
              "<Figure size 432x288 with 1 Axes>"
            ]
          },
          "metadata": {
            "tags": [],
            "needs_background": "light"
          }
        }
      ]
    },
    {
      "cell_type": "code",
      "metadata": {
        "id": "mtu8cPDc-2Pz",
        "colab_type": "code",
        "colab": {}
      },
      "source": [
        "window_size = 30 # Learning from 20 points and predicting the 21st\n",
        "batch_size = 32\n",
        "shuffle_buffer_size = 1000 #speeding up the training"
      ],
      "execution_count": null,
      "outputs": []
    },
    {
      "cell_type": "code",
      "metadata": {
        "id": "1xrduqNr-2Ls",
        "colab_type": "code",
        "colab": {}
      },
      "source": [
        "train_set = windowed_dataset(x_train, window_size, batch_size, shuffle_buffer=shuffle_buffer_size)"
      ],
      "execution_count": null,
      "outputs": []
    },
    {
      "cell_type": "code",
      "metadata": {
        "id": "5nL0JDrB-tV2",
        "colab_type": "code",
        "colab": {
          "base_uri": "https://localhost:8080/",
          "height": 1000
        },
        "outputId": "c396e78b-2fe9-485a-85c8-e223932e6ad0"
      },
      "source": [
        "model4 = tf.keras.models.Sequential([\n",
        "    tf.keras.layers.Conv1D(64, 5, strides=1, padding=\"same\", activation=\"relu\", input_shape=[None, 1]),\n",
        "    tf.keras.layers.Bidirectional(tf.keras.layers.LSTM(64, return_sequences=True)),\n",
        "    tf.keras.layers.Bidirectional(tf.keras.layers.LSTM(64, return_sequences=True)),\n",
        "    tf.keras.layers.Dense(32, activation=\"relu\"),\n",
        "    tf.keras.layers.Dense(16, activation=\"relu\"),\n",
        "    tf.keras.layers.Dense(1),\n",
        "  tf.keras.layers.Lambda(lambda x: x * 200.0)\n",
        "])\n",
        "\n",
        "# optimizer = tf.keras.optimizers.SGD(lr=1e-5, momentum=0.9)\n",
        "model4.compile(loss=tf.keras.losses.Huber(),optimizer='adam',metrics=[\"mae\"])\n",
        "history = model4.fit(train_set,epochs=100)"
      ],
      "execution_count": null,
      "outputs": [
        {
          "output_type": "stream",
          "text": [
            "Epoch 1/100\n",
            "93/93 [==============================] - 7s 71ms/step - loss: 12.7583 - mae: 13.2446\n",
            "Epoch 2/100\n",
            "93/93 [==============================] - 7s 72ms/step - loss: 5.4454 - mae: 5.9148\n",
            "Epoch 3/100\n",
            "93/93 [==============================] - 7s 72ms/step - loss: 3.9946 - mae: 4.4510\n",
            "Epoch 4/100\n",
            "93/93 [==============================] - 7s 73ms/step - loss: 3.4663 - mae: 3.9190\n",
            "Epoch 5/100\n",
            "93/93 [==============================] - 7s 73ms/step - loss: 3.9792 - mae: 4.4366\n",
            "Epoch 6/100\n",
            "93/93 [==============================] - 7s 71ms/step - loss: 2.3611 - mae: 2.7886\n",
            "Epoch 7/100\n",
            "93/93 [==============================] - 7s 73ms/step - loss: 3.3053 - mae: 3.7532\n",
            "Epoch 8/100\n",
            "93/93 [==============================] - 7s 73ms/step - loss: 3.8042 - mae: 4.2641\n",
            "Epoch 9/100\n",
            "93/93 [==============================] - 7s 73ms/step - loss: 2.7152 - mae: 3.1441\n",
            "Epoch 10/100\n",
            "93/93 [==============================] - 7s 72ms/step - loss: 2.7675 - mae: 3.2082\n",
            "Epoch 11/100\n",
            "93/93 [==============================] - 7s 72ms/step - loss: 2.5260 - mae: 2.9583\n",
            "Epoch 12/100\n",
            "93/93 [==============================] - 7s 72ms/step - loss: 3.3818 - mae: 3.8359\n",
            "Epoch 13/100\n",
            "93/93 [==============================] - 7s 73ms/step - loss: 2.4151 - mae: 2.8438\n",
            "Epoch 14/100\n",
            "93/93 [==============================] - 7s 72ms/step - loss: 2.3270 - mae: 2.7489\n",
            "Epoch 15/100\n",
            "93/93 [==============================] - 7s 73ms/step - loss: 3.2183 - mae: 3.6611\n",
            "Epoch 16/100\n",
            "93/93 [==============================] - 7s 73ms/step - loss: 2.6217 - mae: 3.0339\n",
            "Epoch 17/100\n",
            "93/93 [==============================] - 7s 73ms/step - loss: 2.1599 - mae: 2.5821\n",
            "Epoch 18/100\n",
            "93/93 [==============================] - 7s 73ms/step - loss: 1.8398 - mae: 2.2427\n",
            "Epoch 19/100\n",
            "93/93 [==============================] - 7s 73ms/step - loss: 1.8072 - mae: 2.2142\n",
            "Epoch 20/100\n",
            "93/93 [==============================] - 7s 73ms/step - loss: 1.9290 - mae: 2.3408\n",
            "Epoch 21/100\n",
            "93/93 [==============================] - 7s 73ms/step - loss: 2.1469 - mae: 2.5752\n",
            "Epoch 22/100\n",
            "93/93 [==============================] - 7s 73ms/step - loss: 2.3297 - mae: 2.7370\n",
            "Epoch 23/100\n",
            "93/93 [==============================] - 7s 73ms/step - loss: 2.6184 - mae: 3.0495\n",
            "Epoch 24/100\n",
            "93/93 [==============================] - 7s 73ms/step - loss: 2.0170 - mae: 2.4319\n",
            "Epoch 25/100\n",
            "93/93 [==============================] - 7s 73ms/step - loss: 1.9644 - mae: 2.3806\n",
            "Epoch 26/100\n",
            "93/93 [==============================] - 7s 73ms/step - loss: 1.8253 - mae: 2.2271\n",
            "Epoch 27/100\n",
            "93/93 [==============================] - 7s 72ms/step - loss: 1.5373 - mae: 1.9262\n",
            "Epoch 28/100\n",
            "93/93 [==============================] - 7s 72ms/step - loss: 1.8976 - mae: 2.2855\n",
            "Epoch 29/100\n",
            "93/93 [==============================] - 7s 72ms/step - loss: 1.8773 - mae: 2.2789\n",
            "Epoch 30/100\n",
            "93/93 [==============================] - 7s 72ms/step - loss: 1.5849 - mae: 1.9831\n",
            "Epoch 31/100\n",
            "93/93 [==============================] - 7s 72ms/step - loss: 1.6255 - mae: 2.0310\n",
            "Epoch 32/100\n",
            "93/93 [==============================] - 7s 72ms/step - loss: 1.7026 - mae: 2.1042\n",
            "Epoch 33/100\n",
            "93/93 [==============================] - 7s 72ms/step - loss: 1.7723 - mae: 2.1799\n",
            "Epoch 34/100\n",
            "93/93 [==============================] - 7s 72ms/step - loss: 1.8388 - mae: 2.2449\n",
            "Epoch 35/100\n",
            "93/93 [==============================] - 7s 72ms/step - loss: 2.2778 - mae: 2.6957\n",
            "Epoch 36/100\n",
            "93/93 [==============================] - 7s 72ms/step - loss: 2.0864 - mae: 2.5125\n",
            "Epoch 37/100\n",
            "93/93 [==============================] - 7s 74ms/step - loss: 1.4840 - mae: 1.8722\n",
            "Epoch 38/100\n",
            "93/93 [==============================] - 7s 73ms/step - loss: 1.5808 - mae: 1.9660\n",
            "Epoch 39/100\n",
            "93/93 [==============================] - 7s 72ms/step - loss: 1.6097 - mae: 1.9997\n",
            "Epoch 40/100\n",
            "93/93 [==============================] - 7s 73ms/step - loss: 1.5698 - mae: 1.9659\n",
            "Epoch 41/100\n",
            "93/93 [==============================] - 7s 72ms/step - loss: 1.0704 - mae: 1.4151\n",
            "Epoch 42/100\n",
            "93/93 [==============================] - 7s 72ms/step - loss: 2.2667 - mae: 2.7009\n",
            "Epoch 43/100\n",
            "93/93 [==============================] - 7s 72ms/step - loss: 1.4684 - mae: 1.8537\n",
            "Epoch 44/100\n",
            "93/93 [==============================] - 7s 72ms/step - loss: 1.3316 - mae: 1.7018\n",
            "Epoch 45/100\n",
            "93/93 [==============================] - 7s 73ms/step - loss: 1.3462 - mae: 1.7289\n",
            "Epoch 46/100\n",
            "93/93 [==============================] - 7s 73ms/step - loss: 1.1536 - mae: 1.5045\n",
            "Epoch 47/100\n",
            "93/93 [==============================] - 7s 72ms/step - loss: 1.4764 - mae: 1.8588\n",
            "Epoch 48/100\n",
            "93/93 [==============================] - 7s 72ms/step - loss: 1.3809 - mae: 1.7541\n",
            "Epoch 49/100\n",
            "93/93 [==============================] - 7s 72ms/step - loss: 1.4014 - mae: 1.7740\n",
            "Epoch 50/100\n",
            "93/93 [==============================] - 7s 71ms/step - loss: 1.1463 - mae: 1.5062\n",
            "Epoch 51/100\n",
            "93/93 [==============================] - 7s 72ms/step - loss: 1.4907 - mae: 1.8763\n",
            "Epoch 52/100\n",
            "93/93 [==============================] - 7s 71ms/step - loss: 1.6073 - mae: 2.0081\n",
            "Epoch 53/100\n",
            "93/93 [==============================] - 7s 71ms/step - loss: 1.0941 - mae: 1.4286\n",
            "Epoch 54/100\n",
            "93/93 [==============================] - 7s 72ms/step - loss: 1.4453 - mae: 1.8207\n",
            "Epoch 55/100\n",
            "93/93 [==============================] - 7s 72ms/step - loss: 1.5254 - mae: 1.9080\n",
            "Epoch 56/100\n",
            "93/93 [==============================] - 7s 71ms/step - loss: 1.7387 - mae: 2.1449\n",
            "Epoch 57/100\n",
            "93/93 [==============================] - 7s 71ms/step - loss: 1.0681 - mae: 1.3972\n",
            "Epoch 58/100\n",
            "93/93 [==============================] - 7s 72ms/step - loss: 1.5206 - mae: 1.9140\n",
            "Epoch 59/100\n",
            "93/93 [==============================] - 7s 71ms/step - loss: 1.3305 - mae: 1.6859\n",
            "Epoch 60/100\n",
            "93/93 [==============================] - 7s 72ms/step - loss: 1.5035 - mae: 1.8981\n",
            "Epoch 61/100\n",
            "93/93 [==============================] - 7s 71ms/step - loss: 1.1114 - mae: 1.4505\n",
            "Epoch 62/100\n",
            "93/93 [==============================] - 7s 72ms/step - loss: 1.3574 - mae: 1.7038\n",
            "Epoch 63/100\n",
            "93/93 [==============================] - 7s 71ms/step - loss: 1.5984 - mae: 1.9689\n",
            "Epoch 64/100\n",
            "93/93 [==============================] - 7s 71ms/step - loss: 1.3195 - mae: 1.6962\n",
            "Epoch 65/100\n",
            "93/93 [==============================] - 7s 71ms/step - loss: 1.1811 - mae: 1.5326\n",
            "Epoch 66/100\n",
            "93/93 [==============================] - 7s 72ms/step - loss: 1.2109 - mae: 1.5616\n",
            "Epoch 67/100\n",
            "93/93 [==============================] - 7s 71ms/step - loss: 1.1995 - mae: 1.5644\n",
            "Epoch 68/100\n",
            "93/93 [==============================] - 7s 72ms/step - loss: 1.2923 - mae: 1.6702\n",
            "Epoch 69/100\n",
            "93/93 [==============================] - 7s 71ms/step - loss: 1.3074 - mae: 1.6758\n",
            "Epoch 70/100\n",
            "93/93 [==============================] - 7s 71ms/step - loss: 1.6274 - mae: 2.0242\n",
            "Epoch 71/100\n",
            "93/93 [==============================] - 7s 72ms/step - loss: 1.5413 - mae: 1.9279\n",
            "Epoch 72/100\n",
            "93/93 [==============================] - 7s 72ms/step - loss: 1.3612 - mae: 1.7452\n",
            "Epoch 73/100\n",
            "93/93 [==============================] - 7s 72ms/step - loss: 1.2664 - mae: 1.6349\n",
            "Epoch 74/100\n",
            "93/93 [==============================] - 7s 72ms/step - loss: 1.3067 - mae: 1.6924\n",
            "Epoch 75/100\n",
            "93/93 [==============================] - 7s 72ms/step - loss: 0.8347 - mae: 1.1287\n",
            "Epoch 76/100\n",
            "93/93 [==============================] - 7s 71ms/step - loss: 0.8823 - mae: 1.1907\n",
            "Epoch 77/100\n",
            "93/93 [==============================] - 7s 72ms/step - loss: 1.0460 - mae: 1.3963\n",
            "Epoch 78/100\n",
            "93/93 [==============================] - 7s 71ms/step - loss: 1.3865 - mae: 1.7581\n",
            "Epoch 79/100\n",
            "93/93 [==============================] - 7s 72ms/step - loss: 1.1412 - mae: 1.5020\n",
            "Epoch 80/100\n",
            "93/93 [==============================] - 7s 72ms/step - loss: 0.9024 - mae: 1.2098\n",
            "Epoch 81/100\n",
            "93/93 [==============================] - 7s 71ms/step - loss: 0.9439 - mae: 1.2718\n",
            "Epoch 82/100\n",
            "93/93 [==============================] - 7s 71ms/step - loss: 1.1312 - mae: 1.4635\n",
            "Epoch 83/100\n",
            "93/93 [==============================] - 7s 72ms/step - loss: 1.2504 - mae: 1.6071\n",
            "Epoch 84/100\n",
            "93/93 [==============================] - 7s 72ms/step - loss: 1.2412 - mae: 1.6186\n",
            "Epoch 85/100\n",
            "93/93 [==============================] - 7s 71ms/step - loss: 1.3226 - mae: 1.6694\n",
            "Epoch 86/100\n",
            "93/93 [==============================] - 7s 71ms/step - loss: 1.1728 - mae: 1.5427\n",
            "Epoch 87/100\n",
            "93/93 [==============================] - 7s 71ms/step - loss: 1.5922 - mae: 1.9936\n",
            "Epoch 88/100\n",
            "93/93 [==============================] - 7s 72ms/step - loss: 1.2609 - mae: 1.6211\n",
            "Epoch 89/100\n",
            "93/93 [==============================] - 7s 71ms/step - loss: 1.3424 - mae: 1.7147\n",
            "Epoch 90/100\n",
            "93/93 [==============================] - 7s 71ms/step - loss: 1.2269 - mae: 1.5947\n",
            "Epoch 91/100\n",
            "93/93 [==============================] - 7s 71ms/step - loss: 1.1418 - mae: 1.5028\n",
            "Epoch 92/100\n",
            "93/93 [==============================] - 7s 71ms/step - loss: 1.0526 - mae: 1.3832\n",
            "Epoch 93/100\n",
            "93/93 [==============================] - 7s 71ms/step - loss: 0.8863 - mae: 1.1932\n",
            "Epoch 94/100\n",
            "93/93 [==============================] - 7s 71ms/step - loss: 1.0944 - mae: 1.4454\n",
            "Epoch 95/100\n",
            "93/93 [==============================] - 7s 71ms/step - loss: 1.1207 - mae: 1.4756\n",
            "Epoch 96/100\n",
            "93/93 [==============================] - 7s 72ms/step - loss: 0.8931 - mae: 1.1972\n",
            "Epoch 97/100\n",
            "93/93 [==============================] - 7s 71ms/step - loss: 0.9890 - mae: 1.3180\n",
            "Epoch 98/100\n",
            "93/93 [==============================] - 7s 71ms/step - loss: 1.0315 - mae: 1.3607\n",
            "Epoch 99/100\n",
            "93/93 [==============================] - 7s 72ms/step - loss: 1.1525 - mae: 1.5188\n",
            "Epoch 100/100\n",
            "93/93 [==============================] - 7s 71ms/step - loss: 1.0118 - mae: 1.3018\n"
          ],
          "name": "stdout"
        }
      ]
    },
    {
      "cell_type": "code",
      "metadata": {
        "id": "QTnOheyu1vrT",
        "colab_type": "code",
        "colab": {}
      },
      "source": [
        "rnn_forecast = model_forecast(model4, series[..., np.newaxis], window_size)\n",
        "rnn_forecast = rnn_forecast[split_time - window_size:-1, -1, 0]"
      ],
      "execution_count": null,
      "outputs": []
    },
    {
      "cell_type": "code",
      "metadata": {
        "id": "ELAhWtvA1zrm",
        "colab_type": "code",
        "colab": {
          "base_uri": "https://localhost:8080/",
          "height": 388
        },
        "outputId": "a5ce16ef-7e1d-40db-e825-1d8284847b58"
      },
      "source": [
        "plt.figure(figsize=(10, 6))\n",
        "plot_series(time_valid, x_valid)\n",
        "plot_series(time_valid, rnn_forecast)"
      ],
      "execution_count": null,
      "outputs": [
        {
          "output_type": "display_data",
          "data": {
            "image/png": "[encoded data removed]",
            "text/plain": [
              "<Figure size 720x432 with 1 Axes>"
            ]
          },
          "metadata": {
            "tags": [],
            "needs_background": "light"
          }
        }
      ]
    },
    {
      "cell_type": "code",
      "metadata": {
        "id": "d2eNpcNH13IH",
        "colab_type": "code",
        "colab": {
          "base_uri": "https://localhost:8080/",
          "height": 35
        },
        "outputId": "5b0725ca-dbd7-46be-ac32-78b9422a685d"
      },
      "source": [
        "tf.keras.metrics.mean_absolute_error(x_valid, rnn_forecast).numpy()"
      ],
      "execution_count": null,
      "outputs": [
        {
          "output_type": "execute_result",
          "data": {
            "text/plain": [
              "14.263876"
            ]
          },
          "metadata": {
            "tags": []
          },
          "execution_count": 109
        }
      ]
    },
    {
      "cell_type": "code",
      "metadata": {
        "id": "QB5U5cuh18Ov",
        "colab_type": "code",
        "colab": {
          "base_uri": "https://localhost:8080/",
          "height": 330
        },
        "outputId": "8ac11eda-4b1c-4e1e-d63a-2bb069983bb0"
      },
      "source": [
        "import matplotlib.image  as mpimg\n",
        "import matplotlib.pyplot as plt\n",
        "\n",
        "#-----------------------------------------------------------\n",
        "# Retrieve a list of list results on training and test data\n",
        "# sets for each training epoch\n",
        "#-----------------------------------------------------------\n",
        "mae=history.history['mae']\n",
        "loss=history.history['loss']\n",
        "\n",
        "epochs=range(len(loss)) # Get number of epochs\n",
        "\n",
        "#------------------------------------------------\n",
        "# Plot MAE and Loss\n",
        "#------------------------------------------------\n",
        "plt.plot(epochs, mae, 'r')\n",
        "plt.plot(epochs, loss, 'b')\n",
        "plt.title('MAE and Loss')\n",
        "plt.xlabel(\"Epochs\")\n",
        "plt.ylabel(\"Accuracy\")\n",
        "plt.legend([\"MAE\", \"Loss\"])\n",
        "\n",
        "plt.figure()\n",
        "\n"
      ],
      "execution_count": null,
      "outputs": [
        {
          "output_type": "execute_result",
          "data": {
            "text/plain": [
              "<Figure size 432x288 with 0 Axes>"
            ]
          },
          "metadata": {
            "tags": []
          },
          "execution_count": 111
        },
        {
          "output_type": "display_data",
          "data": {
            "image/png": "[encoded data removed]",
            "text/plain": [
              "<Figure size 432x288 with 1 Axes>"
            ]
          },
          "metadata": {
            "tags": [],
            "needs_background": "light"
          }
        },
        {
          "output_type": "display_data",
          "data": {
            "text/plain": [
              "<Figure size 432x288 with 0 Axes>"
            ]
          },
          "metadata": {
            "tags": []
          }
        }
      ]
    },
    {
      "cell_type": "code",
      "metadata": {
        "id": "NN-QNkrsDH_C",
        "colab_type": "code",
        "colab": {
          "base_uri": "https://localhost:8080/",
          "height": 399
        },
        "outputId": "af2db446-1622-46ff-c0ca-23a9788ccfdb"
      },
      "source": [
        "model4.summary()"
      ],
      "execution_count": null,
      "outputs": [
        {
          "output_type": "stream",
          "text": [
            "Model: \"sequential_7\"\n",
            "_________________________________________________________________\n",
            "Layer (type)                 Output Shape              Param #   \n",
            "=================================================================\n",
            "conv1d_5 (Conv1D)            (None, None, 64)          384       \n",
            "_________________________________________________________________\n",
            "bidirectional_12 (Bidirectio (None, None, 128)         66048     \n",
            "_________________________________________________________________\n",
            "bidirectional_13 (Bidirectio (None, None, 128)         98816     \n",
            "_________________________________________________________________\n",
            "dense_17 (Dense)             (None, None, 32)          4128      \n",
            "_________________________________________________________________\n",
            "dense_18 (Dense)             (None, None, 16)          528       \n",
            "_________________________________________________________________\n",
            "dense_19 (Dense)             (None, None, 1)           17        \n",
            "_________________________________________________________________\n",
            "lambda_9 (Lambda)            (None, None, 1)           0         \n",
            "=================================================================\n",
            "Total params: 169,921\n",
            "Trainable params: 169,921\n",
            "Non-trainable params: 0\n",
            "_________________________________________________________________\n"
          ],
          "name": "stdout"
        }
      ]
    },
    {
      "cell_type": "code",
      "metadata": {
        "id": "DLSlg4yKGk-1",
        "colab_type": "code",
        "colab": {}
      },
      "source": [
        "#Saving Model\n",
        "model_json = model4.to_json()\n",
        "with open(\"model.json\", \"w\") as json_file:\n",
        "    json_file.write(model_json)\n",
        "# serialize weights to HDF5\n",
        "model4.save_weights(\"model.h5\")\n",
        "print(\"Saved model to disk\")"
      ],
      "execution_count": null,
      "outputs": []
    },
    {
      "cell_type": "code",
      "metadata": {
        "id": "Ir8EgEmGF4zs",
        "colab_type": "code",
        "colab": {}
      },
      "source": [
        "# Retrieving model\n",
        "from keras.models import model_from_json\n",
        "\n",
        "# Model reconstruction from JSON file\n",
        "with open('/content/gdrive/My Drive/DeepLearning/Time Series/Sun Spot/model_sunspot.json', 'r') as f:\n",
        "    fmodel = tf.keras.models.model_from_json(f.read())\n",
        "\n",
        "\n",
        "# Load weights into the new model\n",
        "fmodel.load_weights('/content/gdrive/My Drive/DeepLearning/Time Series/Sun Spot/model_sunspot.h5')"
      ],
      "execution_count": null,
      "outputs": []
    },
    {
      "cell_type": "code",
      "metadata": {
        "id": "1LOOC56uGTBT",
        "colab_type": "code",
        "colab": {
          "base_uri": "https://localhost:8080/",
          "height": 399
        },
        "outputId": "bc656da8-9099-4e82-a03d-ac022b9f8ec6"
      },
      "source": [
        "fmodel.summary()"
      ],
      "execution_count": null,
      "outputs": [
        {
          "output_type": "stream",
          "text": [
            "Model: \"sequential_7\"\n",
            "_________________________________________________________________\n",
            "Layer (type)                 Output Shape              Param #   \n",
            "=================================================================\n",
            "conv1d_5 (Conv1D)            (None, None, 64)          384       \n",
            "_________________________________________________________________\n",
            "bidirectional_12 (Bidirectio (None, None, 128)         66048     \n",
            "_________________________________________________________________\n",
            "bidirectional_13 (Bidirectio (None, None, 128)         98816     \n",
            "_________________________________________________________________\n",
            "dense_17 (Dense)             (None, None, 32)          4128      \n",
            "_________________________________________________________________\n",
            "dense_18 (Dense)             (None, None, 16)          528       \n",
            "_________________________________________________________________\n",
            "dense_19 (Dense)             (None, None, 1)           17        \n",
            "_________________________________________________________________\n",
            "lambda_9 (Lambda)            (None, None, 1)           0         \n",
            "=================================================================\n",
            "Total params: 169,921\n",
            "Trainable params: 169,921\n",
            "Non-trainable params: 0\n",
            "_________________________________________________________________\n"
          ],
          "name": "stdout"
        }
      ]
    }
  ]
}